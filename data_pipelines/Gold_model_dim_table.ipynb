{
 "cells": [
  {
   "cell_type": "code",
   "execution_count": 0,
   "metadata": {
    "application/vnd.databricks.v1+cell": {
     "cellMetadata": {
      "byteLimit": 2048000,
      "rowLimit": 10000
     },
     "inputWidgets": {},
     "nuid": "2414b96d-91e8-46b9-8836-9eb82dc7a32c",
     "showTitle": false,
     "tableResultSettingsMap": {},
     "title": ""
    }
   },
   "outputs": [],
   "source": [
    "from pyspark.sql.functions import *"
   ]
  },
  {
   "cell_type": "markdown",
   "metadata": {
    "application/vnd.databricks.v1+cell": {
     "cellMetadata": {},
     "inputWidgets": {},
     "nuid": "d93769c2-eaaa-4165-aa22-1d43a9e0c31d",
     "showTitle": false,
     "tableResultSettingsMap": {},
     "title": ""
    }
   },
   "source": [
    "## Creating FLAG for indicating intitial loading or incremental loading "
   ]
  },
  {
   "cell_type": "code",
   "execution_count": 0,
   "metadata": {
    "application/vnd.databricks.v1+cell": {
     "cellMetadata": {
      "byteLimit": 2048000,
      "rowLimit": 10000
     },
     "inputWidgets": {},
     "nuid": "0c7e0b50-9be1-418a-a28f-0f6c5d1a25e9",
     "showTitle": false,
     "tableResultSettingsMap": {},
     "title": ""
    }
   },
   "outputs": [],
   "source": [
    "dbutils.widgets.text('load_flg', '0')"
   ]
  },
  {
   "cell_type": "code",
   "execution_count": 0,
   "metadata": {
    "application/vnd.databricks.v1+cell": {
     "cellMetadata": {
      "byteLimit": 2048000,
      "rowLimit": 10000
     },
     "inputWidgets": {},
     "nuid": "35ea1de5-4100-4da6-977a-075100a0fa3d",
     "showTitle": false,
     "tableResultSettingsMap": {},
     "title": ""
    }
   },
   "outputs": [
    {
     "output_type": "execute_result",
     "data": {
      "text/plain": [
       "'0'"
      ]
     },
     "execution_count": 4,
     "metadata": {},
     "output_type": "execute_result"
    }
   ],
   "source": [
    "dbutils.widgets.get('load_flg')"
   ]
  },
  {
   "cell_type": "markdown",
   "metadata": {
    "application/vnd.databricks.v1+cell": {
     "cellMetadata": {},
     "inputWidgets": {},
     "nuid": "68760eb4-db54-4e1c-9805-af481cefc5d4",
     "showTitle": false,
     "tableResultSettingsMap": {},
     "title": ""
    }
   },
   "source": [
    "## Reading silver layer data"
   ]
  },
  {
   "cell_type": "code",
   "execution_count": 0,
   "metadata": {
    "application/vnd.databricks.v1+cell": {
     "cellMetadata": {
      "byteLimit": 2048000,
      "rowLimit": 10000
     },
     "inputWidgets": {},
     "nuid": "d8b94d4a-5553-49a7-8c25-96d6975fac06",
     "showTitle": false,
     "tableResultSettingsMap": {},
     "title": ""
    }
   },
   "outputs": [],
   "source": [
    "silver_layer_data = spark.sql(\"\"\"\n",
    "                              SELECT DISTINCT(Model_ID) AS Model_ID, Model_Category\n",
    "                              FROM PARQUET.`abfss://silver@firstendtoenddeproject.dfs.core.windows.net/carsales`\n",
    "                              \"\"\")"
   ]
  },
  {
   "cell_type": "code",
   "execution_count": 0,
   "metadata": {
    "application/vnd.databricks.v1+cell": {
     "cellMetadata": {
      "byteLimit": 2048000,
      "rowLimit": 10000
     },
     "inputWidgets": {},
     "nuid": "bf975817-3859-4994-9e00-23e4d9cb1567",
     "showTitle": false,
     "tableResultSettingsMap": {},
     "title": ""
    }
   },
   "outputs": [
    {
     "output_type": "display_data",
     "data": {
      "text/html": [
       "<style scoped>\n",
       "  .table-result-container {\n",
       "    max-height: 300px;\n",
       "    overflow: auto;\n",
       "  }\n",
       "  table, th, td {\n",
       "    border: 1px solid black;\n",
       "    border-collapse: collapse;\n",
       "  }\n",
       "  th, td {\n",
       "    padding: 5px;\n",
       "  }\n",
       "  th {\n",
       "    text-align: left;\n",
       "  }\n",
       "</style><div class='table-result-container'><table class='table-result'><thead style='background-color: white'><tr><th>Model_ID</th><th>Model_Category</th></tr></thead><tbody><tr><td>Hon-M220</td><td>Hon</td></tr><tr><td>Hon-M215</td><td>Hon</td></tr><tr><td>Vol-M110</td><td>Vol</td></tr><tr><td>Vol-M260</td><td>Vol</td></tr><tr><td>BMW-M2</td><td>BMW</td></tr><tr><td>Acu-M60</td><td>Acu</td></tr><tr><td>Bui-M31</td><td>Bui</td></tr><tr><td>Hyu-M157</td><td>Hyu</td></tr><tr><td>Ren-M130</td><td>Ren</td></tr><tr><td>Tat-M179</td><td>Tat</td></tr><tr><td>Lin-M29</td><td>Lin</td></tr><tr><td>Aud-M227</td><td>Aud</td></tr><tr><td>Aud-M234</td><td>Aud</td></tr><tr><td>Mar-M142</td><td>Mar</td></tr><tr><td>Kia-M212</td><td>Kia</td></tr><tr><td>Toy-M198</td><td>Toy</td></tr><tr><td>For-M20</td><td>For</td></tr><tr><td>Mah-M178</td><td>Mah</td></tr><tr><td>Hyu-M161</td><td>Hyu</td></tr><tr><td>Nis-M86</td><td>Nis</td></tr><tr><td>Hon-M217</td><td>Hon</td></tr><tr><td>BMW-M1</td><td>BMW</td></tr><tr><td>Vol-M256</td><td>Vol</td></tr><tr><td>Nis-M264</td><td>Nis</td></tr><tr><td>Hyu-M158</td><td>Hyu</td></tr><tr><td>Vol-M136</td><td>Vol</td></tr><tr><td>Toy-M100</td><td>Toy</td></tr><tr><td>Hyu-M74</td><td>Hyu</td></tr><tr><td>Aud-M240</td><td>Aud</td></tr><tr><td>Nis-M85</td><td>Nis</td></tr><tr><td>Nis-M269</td><td>Nis</td></tr><tr><td>BMW-M250</td><td>BMW</td></tr><tr><td>Toy-M203</td><td>Toy</td></tr><tr><td>Kia-M213</td><td>Kia</td></tr><tr><td>Che-M114</td><td>Che</td></tr><tr><td>Nis-M83</td><td>Nis</td></tr><tr><td>Fia-M118</td><td>Fia</td></tr><tr><td>For-M18</td><td>For</td></tr><tr><td>Toy-M104</td><td>Toy</td></tr><tr><td>Mer-M122</td><td>Mer</td></tr><tr><td>Cit-M116</td><td>Cit</td></tr><tr><td>Nis-M261</td><td>Nis</td></tr><tr><td>Mah-M173</td><td>Mah</td></tr><tr><td>Mer-M121</td><td>Mer</td></tr><tr><td>BMW-M243</td><td>BMW</td></tr><tr><td>Nis-M87</td><td>Nis</td></tr><tr><td>Toy-M206</td><td>Toy</td></tr><tr><td>Hon-M64</td><td>Hon</td></tr><tr><td>Vol-M258</td><td>Vol</td></tr><tr><td>For-M19</td><td>For</td></tr><tr><td>Hon-M219</td><td>Hon</td></tr><tr><td>GMC-M55</td><td>GMC</td></tr><tr><td>Inf-M79</td><td>Inf</td></tr><tr><td>Jee-M253</td><td>Jee</td></tr><tr><td>Hon-M70</td><td>Hon</td></tr><tr><td>GMC-M54</td><td>GMC</td></tr><tr><td>Hon-M71</td><td>Hon</td></tr><tr><td>Jee-M12</td><td>Jee</td></tr><tr><td>Mar-M137</td><td>Mar</td></tr><tr><td>Nis-M81</td><td>Nis</td></tr><tr><td>Hyu-M75</td><td>Hyu</td></tr><tr><td>Aud-M232</td><td>Aud</td></tr><tr><td>Acu-M61</td><td>Acu</td></tr><tr><td>For-M226</td><td>For</td></tr><tr><td>Cit-M115</td><td>Cit</td></tr><tr><td>BMW-M244</td><td>BMW</td></tr><tr><td>Hon-M216</td><td>Hon</td></tr><tr><td>Toy-M106</td><td>Toy</td></tr><tr><td>Ren-M132</td><td>Ren</td></tr><tr><td>Tat-M191</td><td>Tat</td></tr><tr><td>For-M21</td><td>For</td></tr><tr><td>Acu-M63</td><td>Acu</td></tr><tr><td>Acu-M59</td><td>Acu</td></tr><tr><td>Ram-M15</td><td>Ram</td></tr><tr><td>Nis-M88</td><td>Nis</td></tr><tr><td>BMW-M242</td><td>BMW</td></tr><tr><td>GMC-M52</td><td>GMC</td></tr><tr><td>Mar-M146</td><td>Mar</td></tr><tr><td>Aud-M239</td><td>Aud</td></tr><tr><td>Jee-M10</td><td>Jee</td></tr><tr><td>Aud-M233</td><td>Aud</td></tr><tr><td>Sko-M271</td><td>Sko</td></tr><tr><td>BMW-M245</td><td>BMW</td></tr><tr><td>Aud-M241</td><td>Aud</td></tr><tr><td>Vol-M259</td><td>Vol</td></tr><tr><td>Ram-M14</td><td>Ram</td></tr><tr><td>Nis-M262</td><td>Nis</td></tr><tr><td>Tat-M194</td><td>Tat</td></tr><tr><td>Aud-M238</td><td>Aud</td></tr><tr><td>MG-M251</td><td>MG</td></tr><tr><td>Jee-M254</td><td>Jee</td></tr><tr><td>Riv-M91</td><td>Riv</td></tr><tr><td>Che-M49</td><td>Che</td></tr><tr><td>Toy-M105</td><td>Toy</td></tr><tr><td>Hyu-M159</td><td>Hyu</td></tr><tr><td>Vol-M255</td><td>Vol</td></tr><tr><td>Tat-M188</td><td>Tat</td></tr><tr><td>BMW-M4</td><td>BMW</td></tr><tr><td>Toy-M200</td><td>Toy</td></tr><tr><td>Toy-M103</td><td>Toy</td></tr><tr><td>BMW-M247</td><td>BMW</td></tr><tr><td>Mah-M176</td><td>Mah</td></tr><tr><td>For-M221</td><td>For</td></tr><tr><td>Nis-M266</td><td>Nis</td></tr><tr><td>For-M17</td><td>For</td></tr><tr><td>Hyu-M154</td><td>Hyu</td></tr><tr><td>Mer-M7</td><td>Mer</td></tr><tr><td>Tes-M96</td><td>Tes</td></tr><tr><td>Lin-M30</td><td>Lin</td></tr><tr><td>Hon-M218</td><td>Hon</td></tr><tr><td>Vol-M108</td><td>Vol</td></tr><tr><td>Mah-M165</td><td>Mah</td></tr><tr><td>Hon-M66</td><td>Hon</td></tr><tr><td>Toy-M202</td><td>Toy</td></tr><tr><td>Cad-M36</td><td>Cad</td></tr><tr><td>Sub-M95</td><td>Sub</td></tr><tr><td>Tat-M181</td><td>Tat</td></tr><tr><td>Cad-M32</td><td>Cad</td></tr><tr><td>Hyu-M73</td><td>Hyu</td></tr><tr><td>Nis-M267</td><td>Nis</td></tr><tr><td>GMC-M53</td><td>GMC</td></tr><tr><td>Che-M40</td><td>Che</td></tr><tr><td>Che-M50</td><td>Che</td></tr><tr><td>Mar-M152</td><td>Mar</td></tr><tr><td>Cad-M38</td><td>Cad</td></tr><tr><td>Che-M41</td><td>Che</td></tr><tr><td>Vol-M257</td><td>Vol</td></tr><tr><td>For-M225</td><td>For</td></tr><tr><td>For-M223</td><td>For</td></tr><tr><td>Ren-M131</td><td>Ren</td></tr><tr><td>Che-M43</td><td>Che</td></tr><tr><td>Mah-M166</td><td>Mah</td></tr><tr><td>Mar-M151</td><td>Mar</td></tr><tr><td>Sub-M93</td><td>Sub</td></tr><tr><td>GMC-M57</td><td>GMC</td></tr><tr><td>Agr-M112</td><td>Agr</td></tr><tr><td>Mar-M138</td><td>Mar</td></tr><tr><td>Mar-M149</td><td>Mar</td></tr><tr><td>Che-M47</td><td>Che</td></tr><tr><td>Toy-M204</td><td>Toy</td></tr><tr><td>Cad-M39</td><td>Cad</td></tr><tr><td>Cad-M33</td><td>Cad</td></tr><tr><td>Hyu-M160</td><td>Hyu</td></tr><tr><td>Mah-M171</td><td>Mah</td></tr><tr><td>Tat-M184</td><td>Tat</td></tr><tr><td>Agr-M111</td><td>Agr</td></tr><tr><td>Lin-M27</td><td>Lin</td></tr><tr><td>Ren-M211</td><td>Ren</td></tr><tr><td>Nis-M265</td><td>Nis</td></tr><tr><td>Tat-M193</td><td>Tat</td></tr><tr><td>Che-M44</td><td>Che</td></tr><tr><td>Ren-M208</td><td>Ren</td></tr><tr><td>Aud-M231</td><td>Aud</td></tr><tr><td>MG-M252</td><td>MG</td></tr><tr><td>Tat-M182</td><td>Tat</td></tr><tr><td>GMC-M56</td><td>GMC</td></tr><tr><td>Mar-M141</td><td>Mar</td></tr><tr><td>Hyu-M164</td><td>Hyu</td></tr><tr><td>Peu-M125</td><td>Peu</td></tr><tr><td>Nis-M263</td><td>Nis</td></tr><tr><td>Hyu-M72</td><td>Hyu</td></tr><tr><td>Mit-M277</td><td>Mit</td></tr><tr><td>Toy-M101</td><td>Toy</td></tr><tr><td>For-M22</td><td>For</td></tr><tr><td>BMW-M248</td><td>BMW</td></tr><tr><td>Nis-M84</td><td>Nis</td></tr><tr><td>Mar-M150</td><td>Mar</td></tr><tr><td>Mar-M143</td><td>Mar</td></tr><tr><td>BMW-M246</td><td>BMW</td></tr><tr><td>Cad-M37</td><td>Cad</td></tr><tr><td>Nis-M268</td><td>Nis</td></tr><tr><td>Kia-M76</td><td>Kia</td></tr><tr><td>Aud-M228</td><td>Aud</td></tr><tr><td>Peu-M126</td><td>Peu</td></tr><tr><td>Tes-M97</td><td>Tes</td></tr><tr><td>Mah-M175</td><td>Mah</td></tr><tr><td>Hyu-M156</td><td>Hyu</td></tr><tr><td>Lin-M28</td><td>Lin</td></tr><tr><td>Toy-M107</td><td>Toy</td></tr><tr><td>Sub-M92</td><td>Sub</td></tr><tr><td>Che-M48</td><td>Che</td></tr><tr><td>For-M26</td><td>For</td></tr><tr><td>Vol-M135</td><td>Vol</td></tr><tr><td>Tat-M187</td><td>Tat</td></tr><tr><td>Hon-M120</td><td>Hon</td></tr><tr><td>Hyu-M163</td><td>Hyu</td></tr><tr><td>Mah-M177</td><td>Mah</td></tr><tr><td>Tat-M192</td><td>Tat</td></tr><tr><td>Kia-M77</td><td>Kia</td></tr><tr><td>Toy-M196</td><td>Toy</td></tr><tr><td>GMC-M58</td><td>GMC</td></tr><tr><td>Mah-M167</td><td>Mah</td></tr><tr><td>BMW-M5</td><td>BMW</td></tr><tr><td>BMW-M249</td><td>BMW</td></tr><tr><td>Mah-M172</td><td>Mah</td></tr><tr><td>Sub-M94</td><td>Sub</td></tr><tr><td>Tat-M180</td><td>Tat</td></tr><tr><td>For-M25</td><td>For</td></tr><tr><td>Che-M42</td><td>Che</td></tr><tr><td>Mer-M123</td><td>Mer</td></tr><tr><td>Peu-M124</td><td>Peu</td></tr><tr><td>Dod-M9</td><td>Dod</td></tr><tr><td>Mar-M140</td><td>Mar</td></tr><tr><td>For-M119</td><td>For</td></tr><tr><td>Tes-M98</td><td>Tes</td></tr><tr><td>Toy-M205</td><td>Toy</td></tr><tr><td>Ren-M129</td><td>Ren</td></tr><tr><td>Aud-M237</td><td>Aud</td></tr><tr><td>Toy-M133</td><td>Toy</td></tr><tr><td>Nis-M82</td><td>Nis</td></tr><tr><td>Tat-M183</td><td>Tat</td></tr><tr><td>Che-M51</td><td>Che</td></tr><tr><td>Jee-M11</td><td>Jee</td></tr><tr><td>Ren-M128</td><td>Ren</td></tr><tr><td>Cad-M34</td><td>Cad</td></tr><tr><td>Che-M46</td><td>Che</td></tr><tr><td>Ren-M127</td><td>Ren</td></tr><tr><td>Agr-M113</td><td>Agr</td></tr><tr><td>Toy-M199</td><td>Toy</td></tr><tr><td>Mar-M145</td><td>Mar</td></tr><tr><td>Sko-M273</td><td>Sko</td></tr><tr><td>Nis-M270</td><td>Nis</td></tr><tr><td>Aud-M235</td><td>Aud</td></tr><tr><td>Cad-M35</td><td>Cad</td></tr><tr><td>Mer-M8</td><td>Mer</td></tr><tr><td>For-M23</td><td>For</td></tr><tr><td>Aud-M236</td><td>Aud</td></tr><tr><td>Lex-M99</td><td>Lex</td></tr><tr><td>Ren-M209</td><td>Ren</td></tr><tr><td>Kia-M78</td><td>Kia</td></tr><tr><td>Mah-M169</td><td>Mah</td></tr><tr><td>BMW-M3</td><td>BMW</td></tr><tr><td>For-M16</td><td>For</td></tr><tr><td>Nis-M80</td><td>Nis</td></tr><tr><td>Toy-M201</td><td>Toy</td></tr><tr><td>Che-M45</td><td>Che</td></tr><tr><td>Mit-M275</td><td>Mit</td></tr><tr><td>Toy-M197</td><td>Toy</td></tr><tr><td>Tat-M190</td><td>Tat</td></tr><tr><td>Hon-M65</td><td>Hon</td></tr><tr><td>Toy-M102</td><td>Toy</td></tr><tr><td>Hon-M67</td><td>Hon</td></tr><tr><td>Sko-M274</td><td>Sko</td></tr><tr><td>Mah-M168</td><td>Mah</td></tr><tr><td>Mer-M6</td><td>Mer</td></tr><tr><td>Ren-M207</td><td>Ren</td></tr><tr><td>Hon-M68</td><td>Hon</td></tr><tr><td>Hon-M69</td><td>Hon</td></tr><tr><td>Kia-M214</td><td>Kia</td></tr><tr><td>Mar-M144</td><td>Mar</td></tr><tr><td>Sko-M272</td><td>Sko</td></tr><tr><td>Mit-M276</td><td>Mit</td></tr><tr><td>Mar-M148</td><td>Mar</td></tr><tr><td>For-M24</td><td>For</td></tr><tr><td>Mah-M170</td><td>Mah</td></tr><tr><td>Acu-M62</td><td>Acu</td></tr><tr><td>Hyu-M162</td><td>Hyu</td></tr><tr><td>Hyu-M155</td><td>Hyu</td></tr><tr><td>Ren-M210</td><td>Ren</td></tr><tr><td>Aud-M229</td><td>Aud</td></tr><tr><td>Tat-M185</td><td>Tat</td></tr><tr><td>Vol-M109</td><td>Vol</td></tr><tr><td>Mar-M147</td><td>Mar</td></tr><tr><td>Hyu-M153</td><td>Hyu</td></tr><tr><td>For-M224</td><td>For</td></tr><tr><td>Nis-M89</td><td>Nis</td></tr><tr><td>Riv-M90</td><td>Riv</td></tr><tr><td>Mar-M139</td><td>Mar</td></tr><tr><td>Jee-M13</td><td>Jee</td></tr><tr><td>Tat-M189</td><td>Tat</td></tr><tr><td>Toy-M134</td><td>Toy</td></tr><tr><td>Mah-M174</td><td>Mah</td></tr><tr><td>Aud-M230</td><td>Aud</td></tr><tr><td>Toy-M195</td><td>Toy</td></tr><tr><td>Fia-M117</td><td>Fia</td></tr><tr><td>For-M222</td><td>For</td></tr><tr><td>Tat-M186</td><td>Tat</td></tr><tr><td>ZYXM13</td><td>ZYXM13</td></tr></tbody></table></div>"
      ]
     },
     "metadata": {
      "application/vnd.databricks.v1+output": {
       "addedWidgets": {},
       "aggData": [],
       "aggError": "",
       "aggOverflow": false,
       "aggSchema": [],
       "aggSeriesLimitReached": false,
       "aggType": "",
       "arguments": {},
       "columnCustomDisplayInfos": {},
       "data": [
        [
         "Hon-M220",
         "Hon"
        ],
        [
         "Hon-M215",
         "Hon"
        ],
        [
         "Vol-M110",
         "Vol"
        ],
        [
         "Vol-M260",
         "Vol"
        ],
        [
         "BMW-M2",
         "BMW"
        ],
        [
         "Acu-M60",
         "Acu"
        ],
        [
         "Bui-M31",
         "Bui"
        ],
        [
         "Hyu-M157",
         "Hyu"
        ],
        [
         "Ren-M130",
         "Ren"
        ],
        [
         "Tat-M179",
         "Tat"
        ],
        [
         "Lin-M29",
         "Lin"
        ],
        [
         "Aud-M227",
         "Aud"
        ],
        [
         "Aud-M234",
         "Aud"
        ],
        [
         "Mar-M142",
         "Mar"
        ],
        [
         "Kia-M212",
         "Kia"
        ],
        [
         "Toy-M198",
         "Toy"
        ],
        [
         "For-M20",
         "For"
        ],
        [
         "Mah-M178",
         "Mah"
        ],
        [
         "Hyu-M161",
         "Hyu"
        ],
        [
         "Nis-M86",
         "Nis"
        ],
        [
         "Hon-M217",
         "Hon"
        ],
        [
         "BMW-M1",
         "BMW"
        ],
        [
         "Vol-M256",
         "Vol"
        ],
        [
         "Nis-M264",
         "Nis"
        ],
        [
         "Hyu-M158",
         "Hyu"
        ],
        [
         "Vol-M136",
         "Vol"
        ],
        [
         "Toy-M100",
         "Toy"
        ],
        [
         "Hyu-M74",
         "Hyu"
        ],
        [
         "Aud-M240",
         "Aud"
        ],
        [
         "Nis-M85",
         "Nis"
        ],
        [
         "Nis-M269",
         "Nis"
        ],
        [
         "BMW-M250",
         "BMW"
        ],
        [
         "Toy-M203",
         "Toy"
        ],
        [
         "Kia-M213",
         "Kia"
        ],
        [
         "Che-M114",
         "Che"
        ],
        [
         "Nis-M83",
         "Nis"
        ],
        [
         "Fia-M118",
         "Fia"
        ],
        [
         "For-M18",
         "For"
        ],
        [
         "Toy-M104",
         "Toy"
        ],
        [
         "Mer-M122",
         "Mer"
        ],
        [
         "Cit-M116",
         "Cit"
        ],
        [
         "Nis-M261",
         "Nis"
        ],
        [
         "Mah-M173",
         "Mah"
        ],
        [
         "Mer-M121",
         "Mer"
        ],
        [
         "BMW-M243",
         "BMW"
        ],
        [
         "Nis-M87",
         "Nis"
        ],
        [
         "Toy-M206",
         "Toy"
        ],
        [
         "Hon-M64",
         "Hon"
        ],
        [
         "Vol-M258",
         "Vol"
        ],
        [
         "For-M19",
         "For"
        ],
        [
         "Hon-M219",
         "Hon"
        ],
        [
         "GMC-M55",
         "GMC"
        ],
        [
         "Inf-M79",
         "Inf"
        ],
        [
         "Jee-M253",
         "Jee"
        ],
        [
         "Hon-M70",
         "Hon"
        ],
        [
         "GMC-M54",
         "GMC"
        ],
        [
         "Hon-M71",
         "Hon"
        ],
        [
         "Jee-M12",
         "Jee"
        ],
        [
         "Mar-M137",
         "Mar"
        ],
        [
         "Nis-M81",
         "Nis"
        ],
        [
         "Hyu-M75",
         "Hyu"
        ],
        [
         "Aud-M232",
         "Aud"
        ],
        [
         "Acu-M61",
         "Acu"
        ],
        [
         "For-M226",
         "For"
        ],
        [
         "Cit-M115",
         "Cit"
        ],
        [
         "BMW-M244",
         "BMW"
        ],
        [
         "Hon-M216",
         "Hon"
        ],
        [
         "Toy-M106",
         "Toy"
        ],
        [
         "Ren-M132",
         "Ren"
        ],
        [
         "Tat-M191",
         "Tat"
        ],
        [
         "For-M21",
         "For"
        ],
        [
         "Acu-M63",
         "Acu"
        ],
        [
         "Acu-M59",
         "Acu"
        ],
        [
         "Ram-M15",
         "Ram"
        ],
        [
         "Nis-M88",
         "Nis"
        ],
        [
         "BMW-M242",
         "BMW"
        ],
        [
         "GMC-M52",
         "GMC"
        ],
        [
         "Mar-M146",
         "Mar"
        ],
        [
         "Aud-M239",
         "Aud"
        ],
        [
         "Jee-M10",
         "Jee"
        ],
        [
         "Aud-M233",
         "Aud"
        ],
        [
         "Sko-M271",
         "Sko"
        ],
        [
         "BMW-M245",
         "BMW"
        ],
        [
         "Aud-M241",
         "Aud"
        ],
        [
         "Vol-M259",
         "Vol"
        ],
        [
         "Ram-M14",
         "Ram"
        ],
        [
         "Nis-M262",
         "Nis"
        ],
        [
         "Tat-M194",
         "Tat"
        ],
        [
         "Aud-M238",
         "Aud"
        ],
        [
         "MG-M251",
         "MG"
        ],
        [
         "Jee-M254",
         "Jee"
        ],
        [
         "Riv-M91",
         "Riv"
        ],
        [
         "Che-M49",
         "Che"
        ],
        [
         "Toy-M105",
         "Toy"
        ],
        [
         "Hyu-M159",
         "Hyu"
        ],
        [
         "Vol-M255",
         "Vol"
        ],
        [
         "Tat-M188",
         "Tat"
        ],
        [
         "BMW-M4",
         "BMW"
        ],
        [
         "Toy-M200",
         "Toy"
        ],
        [
         "Toy-M103",
         "Toy"
        ],
        [
         "BMW-M247",
         "BMW"
        ],
        [
         "Mah-M176",
         "Mah"
        ],
        [
         "For-M221",
         "For"
        ],
        [
         "Nis-M266",
         "Nis"
        ],
        [
         "For-M17",
         "For"
        ],
        [
         "Hyu-M154",
         "Hyu"
        ],
        [
         "Mer-M7",
         "Mer"
        ],
        [
         "Tes-M96",
         "Tes"
        ],
        [
         "Lin-M30",
         "Lin"
        ],
        [
         "Hon-M218",
         "Hon"
        ],
        [
         "Vol-M108",
         "Vol"
        ],
        [
         "Mah-M165",
         "Mah"
        ],
        [
         "Hon-M66",
         "Hon"
        ],
        [
         "Toy-M202",
         "Toy"
        ],
        [
         "Cad-M36",
         "Cad"
        ],
        [
         "Sub-M95",
         "Sub"
        ],
        [
         "Tat-M181",
         "Tat"
        ],
        [
         "Cad-M32",
         "Cad"
        ],
        [
         "Hyu-M73",
         "Hyu"
        ],
        [
         "Nis-M267",
         "Nis"
        ],
        [
         "GMC-M53",
         "GMC"
        ],
        [
         "Che-M40",
         "Che"
        ],
        [
         "Che-M50",
         "Che"
        ],
        [
         "Mar-M152",
         "Mar"
        ],
        [
         "Cad-M38",
         "Cad"
        ],
        [
         "Che-M41",
         "Che"
        ],
        [
         "Vol-M257",
         "Vol"
        ],
        [
         "For-M225",
         "For"
        ],
        [
         "For-M223",
         "For"
        ],
        [
         "Ren-M131",
         "Ren"
        ],
        [
         "Che-M43",
         "Che"
        ],
        [
         "Mah-M166",
         "Mah"
        ],
        [
         "Mar-M151",
         "Mar"
        ],
        [
         "Sub-M93",
         "Sub"
        ],
        [
         "GMC-M57",
         "GMC"
        ],
        [
         "Agr-M112",
         "Agr"
        ],
        [
         "Mar-M138",
         "Mar"
        ],
        [
         "Mar-M149",
         "Mar"
        ],
        [
         "Che-M47",
         "Che"
        ],
        [
         "Toy-M204",
         "Toy"
        ],
        [
         "Cad-M39",
         "Cad"
        ],
        [
         "Cad-M33",
         "Cad"
        ],
        [
         "Hyu-M160",
         "Hyu"
        ],
        [
         "Mah-M171",
         "Mah"
        ],
        [
         "Tat-M184",
         "Tat"
        ],
        [
         "Agr-M111",
         "Agr"
        ],
        [
         "Lin-M27",
         "Lin"
        ],
        [
         "Ren-M211",
         "Ren"
        ],
        [
         "Nis-M265",
         "Nis"
        ],
        [
         "Tat-M193",
         "Tat"
        ],
        [
         "Che-M44",
         "Che"
        ],
        [
         "Ren-M208",
         "Ren"
        ],
        [
         "Aud-M231",
         "Aud"
        ],
        [
         "MG-M252",
         "MG"
        ],
        [
         "Tat-M182",
         "Tat"
        ],
        [
         "GMC-M56",
         "GMC"
        ],
        [
         "Mar-M141",
         "Mar"
        ],
        [
         "Hyu-M164",
         "Hyu"
        ],
        [
         "Peu-M125",
         "Peu"
        ],
        [
         "Nis-M263",
         "Nis"
        ],
        [
         "Hyu-M72",
         "Hyu"
        ],
        [
         "Mit-M277",
         "Mit"
        ],
        [
         "Toy-M101",
         "Toy"
        ],
        [
         "For-M22",
         "For"
        ],
        [
         "BMW-M248",
         "BMW"
        ],
        [
         "Nis-M84",
         "Nis"
        ],
        [
         "Mar-M150",
         "Mar"
        ],
        [
         "Mar-M143",
         "Mar"
        ],
        [
         "BMW-M246",
         "BMW"
        ],
        [
         "Cad-M37",
         "Cad"
        ],
        [
         "Nis-M268",
         "Nis"
        ],
        [
         "Kia-M76",
         "Kia"
        ],
        [
         "Aud-M228",
         "Aud"
        ],
        [
         "Peu-M126",
         "Peu"
        ],
        [
         "Tes-M97",
         "Tes"
        ],
        [
         "Mah-M175",
         "Mah"
        ],
        [
         "Hyu-M156",
         "Hyu"
        ],
        [
         "Lin-M28",
         "Lin"
        ],
        [
         "Toy-M107",
         "Toy"
        ],
        [
         "Sub-M92",
         "Sub"
        ],
        [
         "Che-M48",
         "Che"
        ],
        [
         "For-M26",
         "For"
        ],
        [
         "Vol-M135",
         "Vol"
        ],
        [
         "Tat-M187",
         "Tat"
        ],
        [
         "Hon-M120",
         "Hon"
        ],
        [
         "Hyu-M163",
         "Hyu"
        ],
        [
         "Mah-M177",
         "Mah"
        ],
        [
         "Tat-M192",
         "Tat"
        ],
        [
         "Kia-M77",
         "Kia"
        ],
        [
         "Toy-M196",
         "Toy"
        ],
        [
         "GMC-M58",
         "GMC"
        ],
        [
         "Mah-M167",
         "Mah"
        ],
        [
         "BMW-M5",
         "BMW"
        ],
        [
         "BMW-M249",
         "BMW"
        ],
        [
         "Mah-M172",
         "Mah"
        ],
        [
         "Sub-M94",
         "Sub"
        ],
        [
         "Tat-M180",
         "Tat"
        ],
        [
         "For-M25",
         "For"
        ],
        [
         "Che-M42",
         "Che"
        ],
        [
         "Mer-M123",
         "Mer"
        ],
        [
         "Peu-M124",
         "Peu"
        ],
        [
         "Dod-M9",
         "Dod"
        ],
        [
         "Mar-M140",
         "Mar"
        ],
        [
         "For-M119",
         "For"
        ],
        [
         "Tes-M98",
         "Tes"
        ],
        [
         "Toy-M205",
         "Toy"
        ],
        [
         "Ren-M129",
         "Ren"
        ],
        [
         "Aud-M237",
         "Aud"
        ],
        [
         "Toy-M133",
         "Toy"
        ],
        [
         "Nis-M82",
         "Nis"
        ],
        [
         "Tat-M183",
         "Tat"
        ],
        [
         "Che-M51",
         "Che"
        ],
        [
         "Jee-M11",
         "Jee"
        ],
        [
         "Ren-M128",
         "Ren"
        ],
        [
         "Cad-M34",
         "Cad"
        ],
        [
         "Che-M46",
         "Che"
        ],
        [
         "Ren-M127",
         "Ren"
        ],
        [
         "Agr-M113",
         "Agr"
        ],
        [
         "Toy-M199",
         "Toy"
        ],
        [
         "Mar-M145",
         "Mar"
        ],
        [
         "Sko-M273",
         "Sko"
        ],
        [
         "Nis-M270",
         "Nis"
        ],
        [
         "Aud-M235",
         "Aud"
        ],
        [
         "Cad-M35",
         "Cad"
        ],
        [
         "Mer-M8",
         "Mer"
        ],
        [
         "For-M23",
         "For"
        ],
        [
         "Aud-M236",
         "Aud"
        ],
        [
         "Lex-M99",
         "Lex"
        ],
        [
         "Ren-M209",
         "Ren"
        ],
        [
         "Kia-M78",
         "Kia"
        ],
        [
         "Mah-M169",
         "Mah"
        ],
        [
         "BMW-M3",
         "BMW"
        ],
        [
         "For-M16",
         "For"
        ],
        [
         "Nis-M80",
         "Nis"
        ],
        [
         "Toy-M201",
         "Toy"
        ],
        [
         "Che-M45",
         "Che"
        ],
        [
         "Mit-M275",
         "Mit"
        ],
        [
         "Toy-M197",
         "Toy"
        ],
        [
         "Tat-M190",
         "Tat"
        ],
        [
         "Hon-M65",
         "Hon"
        ],
        [
         "Toy-M102",
         "Toy"
        ],
        [
         "Hon-M67",
         "Hon"
        ],
        [
         "Sko-M274",
         "Sko"
        ],
        [
         "Mah-M168",
         "Mah"
        ],
        [
         "Mer-M6",
         "Mer"
        ],
        [
         "Ren-M207",
         "Ren"
        ],
        [
         "Hon-M68",
         "Hon"
        ],
        [
         "Hon-M69",
         "Hon"
        ],
        [
         "Kia-M214",
         "Kia"
        ],
        [
         "Mar-M144",
         "Mar"
        ],
        [
         "Sko-M272",
         "Sko"
        ],
        [
         "Mit-M276",
         "Mit"
        ],
        [
         "Mar-M148",
         "Mar"
        ],
        [
         "For-M24",
         "For"
        ],
        [
         "Mah-M170",
         "Mah"
        ],
        [
         "Acu-M62",
         "Acu"
        ],
        [
         "Hyu-M162",
         "Hyu"
        ],
        [
         "Hyu-M155",
         "Hyu"
        ],
        [
         "Ren-M210",
         "Ren"
        ],
        [
         "Aud-M229",
         "Aud"
        ],
        [
         "Tat-M185",
         "Tat"
        ],
        [
         "Vol-M109",
         "Vol"
        ],
        [
         "Mar-M147",
         "Mar"
        ],
        [
         "Hyu-M153",
         "Hyu"
        ],
        [
         "For-M224",
         "For"
        ],
        [
         "Nis-M89",
         "Nis"
        ],
        [
         "Riv-M90",
         "Riv"
        ],
        [
         "Mar-M139",
         "Mar"
        ],
        [
         "Jee-M13",
         "Jee"
        ],
        [
         "Tat-M189",
         "Tat"
        ],
        [
         "Toy-M134",
         "Toy"
        ],
        [
         "Mah-M174",
         "Mah"
        ],
        [
         "Aud-M230",
         "Aud"
        ],
        [
         "Toy-M195",
         "Toy"
        ],
        [
         "Fia-M117",
         "Fia"
        ],
        [
         "For-M222",
         "For"
        ],
        [
         "Tat-M186",
         "Tat"
        ],
        [
         "ZYXM13",
         "ZYXM13"
        ]
       ],
       "datasetInfos": [],
       "dbfsResultPath": null,
       "isJsonSchema": true,
       "metadata": {},
       "overflow": false,
       "plotOptions": {
        "customPlotOptions": {},
        "displayType": "table",
        "pivotAggregation": null,
        "pivotColumns": null,
        "xColumns": null,
        "yColumns": null
       },
       "removedWidgets": [],
       "schema": [
        {
         "metadata": "{}",
         "name": "Model_ID",
         "type": "\"string\""
        },
        {
         "metadata": "{}",
         "name": "Model_Category",
         "type": "\"string\""
        }
       ],
       "type": "table"
      }
     },
     "output_type": "display_data"
    }
   ],
   "source": [
    "silver_layer_data.display()"
   ]
  },
  {
   "cell_type": "markdown",
   "metadata": {
    "application/vnd.databricks.v1+cell": {
     "cellMetadata": {},
     "inputWidgets": {},
     "nuid": "bd76bc3a-b289-4856-aec7-48b2c67d0bb9",
     "showTitle": false,
     "tableResultSettingsMap": {},
     "title": ""
    }
   },
   "source": [
    "## Creating Dimensional table"
   ]
  },
  {
   "cell_type": "code",
   "execution_count": 0,
   "metadata": {
    "application/vnd.databricks.v1+cell": {
     "cellMetadata": {
      "byteLimit": 2048000,
      "implicitDf": true,
      "rowLimit": 10000
     },
     "inputWidgets": {},
     "nuid": "884289d3-044b-4036-b456-66f2393da0cb",
     "showTitle": false,
     "tableResultSettingsMap": {},
     "title": ""
    }
   },
   "outputs": [],
   "source": [
    "## For initial run the dim table should be empty\n",
    "## For incremental load the dim table should contains all the records\n",
    "if not spark.catalog.tableExists('carsales.gold.model_dim_table'):\n",
    "    data_sink = spark.sql(\"\"\"\n",
    "            SELECT 1 as dim_model_id, Model_ID, Model_Category \n",
    "            FROM PARQUET.`abfss://silver@firstendtoenddeproject.dfs.core.windows.net/carsales` \n",
    "            WHERE 1=0\n",
    "            \"\"\")\n",
    "else:\n",
    "    data_sink = spark.sql(\"\"\"\n",
    "            SELECT dim_model_id, Model_ID, Model_Category \n",
    "            FROM carsales.gold.model_dim_table \n",
    "            \"\"\")\n"
   ]
  },
  {
   "cell_type": "markdown",
   "metadata": {
    "application/vnd.databricks.v1+cell": {
     "cellMetadata": {},
     "inputWidgets": {},
     "nuid": "dcab6997-93d8-4035-b75c-0daa032db116",
     "showTitle": false,
     "tableResultSettingsMap": {},
     "title": ""
    }
   },
   "source": [
    "## Perform a LEFT JOIN between source table and dim table"
   ]
  },
  {
   "cell_type": "code",
   "execution_count": 0,
   "metadata": {
    "application/vnd.databricks.v1+cell": {
     "cellMetadata": {
      "byteLimit": 2048000,
      "rowLimit": 10000
     },
     "inputWidgets": {},
     "nuid": "67c20a48-1065-4c18-b80c-b0bf9cd8f44d",
     "showTitle": false,
     "tableResultSettingsMap": {},
     "title": ""
    }
   },
   "outputs": [
    {
     "output_type": "display_data",
     "data": {
      "text/html": [
       "<style scoped>\n",
       "  .table-result-container {\n",
       "    max-height: 300px;\n",
       "    overflow: auto;\n",
       "  }\n",
       "  table, th, td {\n",
       "    border: 1px solid black;\n",
       "    border-collapse: collapse;\n",
       "  }\n",
       "  th, td {\n",
       "    padding: 5px;\n",
       "  }\n",
       "  th {\n",
       "    text-align: left;\n",
       "  }\n",
       "</style><div class='table-result-container'><table class='table-result'><thead style='background-color: white'><tr><th>dim_model_id</th><th>Model_ID</th><th>Model_Category</th></tr></thead><tbody><tr><td>2</td><td>Hon-M215</td><td>Hon</td></tr><tr><td>3</td><td>Vol-M110</td><td>Vol</td></tr><tr><td>4</td><td>Vol-M260</td><td>Vol</td></tr><tr><td>5</td><td>BMW-M2</td><td>BMW</td></tr><tr><td>6</td><td>Acu-M60</td><td>Acu</td></tr><tr><td>7</td><td>Bui-M31</td><td>Bui</td></tr><tr><td>8</td><td>Hyu-M157</td><td>Hyu</td></tr><tr><td>9</td><td>Ren-M130</td><td>Ren</td></tr><tr><td>10</td><td>Tat-M179</td><td>Tat</td></tr><tr><td>11</td><td>Lin-M29</td><td>Lin</td></tr><tr><td>12</td><td>Aud-M227</td><td>Aud</td></tr><tr><td>13</td><td>Aud-M234</td><td>Aud</td></tr><tr><td>14</td><td>Mar-M142</td><td>Mar</td></tr><tr><td>15</td><td>Kia-M212</td><td>Kia</td></tr><tr><td>16</td><td>Toy-M198</td><td>Toy</td></tr><tr><td>17</td><td>For-M20</td><td>For</td></tr><tr><td>18</td><td>Mah-M178</td><td>Mah</td></tr><tr><td>19</td><td>Hyu-M161</td><td>Hyu</td></tr><tr><td>20</td><td>Nis-M86</td><td>Nis</td></tr><tr><td>21</td><td>Hon-M217</td><td>Hon</td></tr><tr><td>22</td><td>BMW-M1</td><td>BMW</td></tr><tr><td>23</td><td>Vol-M256</td><td>Vol</td></tr><tr><td>24</td><td>Nis-M264</td><td>Nis</td></tr><tr><td>25</td><td>Hyu-M158</td><td>Hyu</td></tr><tr><td>26</td><td>Vol-M136</td><td>Vol</td></tr><tr><td>27</td><td>Toy-M100</td><td>Toy</td></tr><tr><td>28</td><td>Hyu-M74</td><td>Hyu</td></tr><tr><td>29</td><td>Aud-M240</td><td>Aud</td></tr><tr><td>30</td><td>Nis-M85</td><td>Nis</td></tr><tr><td>31</td><td>Nis-M269</td><td>Nis</td></tr><tr><td>32</td><td>BMW-M250</td><td>BMW</td></tr><tr><td>33</td><td>Toy-M203</td><td>Toy</td></tr><tr><td>34</td><td>Kia-M213</td><td>Kia</td></tr><tr><td>35</td><td>Che-M114</td><td>Che</td></tr><tr><td>36</td><td>Nis-M83</td><td>Nis</td></tr><tr><td>37</td><td>Fia-M118</td><td>Fia</td></tr><tr><td>38</td><td>For-M18</td><td>For</td></tr><tr><td>39</td><td>Toy-M104</td><td>Toy</td></tr><tr><td>40</td><td>Mer-M122</td><td>Mer</td></tr><tr><td>41</td><td>Cit-M116</td><td>Cit</td></tr><tr><td>42</td><td>Nis-M261</td><td>Nis</td></tr><tr><td>43</td><td>Mah-M173</td><td>Mah</td></tr><tr><td>44</td><td>Mer-M121</td><td>Mer</td></tr><tr><td>45</td><td>BMW-M243</td><td>BMW</td></tr><tr><td>46</td><td>Nis-M87</td><td>Nis</td></tr><tr><td>47</td><td>Toy-M206</td><td>Toy</td></tr><tr><td>48</td><td>Hon-M64</td><td>Hon</td></tr><tr><td>49</td><td>Vol-M258</td><td>Vol</td></tr><tr><td>50</td><td>For-M19</td><td>For</td></tr><tr><td>51</td><td>Hon-M219</td><td>Hon</td></tr><tr><td>52</td><td>GMC-M55</td><td>GMC</td></tr><tr><td>53</td><td>Inf-M79</td><td>Inf</td></tr><tr><td>54</td><td>Jee-M253</td><td>Jee</td></tr><tr><td>55</td><td>Hon-M70</td><td>Hon</td></tr><tr><td>56</td><td>GMC-M54</td><td>GMC</td></tr><tr><td>57</td><td>Hon-M71</td><td>Hon</td></tr><tr><td>58</td><td>Jee-M12</td><td>Jee</td></tr><tr><td>59</td><td>Mar-M137</td><td>Mar</td></tr><tr><td>60</td><td>Nis-M81</td><td>Nis</td></tr><tr><td>61</td><td>Hyu-M75</td><td>Hyu</td></tr><tr><td>62</td><td>Aud-M232</td><td>Aud</td></tr><tr><td>63</td><td>Acu-M61</td><td>Acu</td></tr><tr><td>64</td><td>For-M226</td><td>For</td></tr><tr><td>65</td><td>Cit-M115</td><td>Cit</td></tr><tr><td>66</td><td>BMW-M244</td><td>BMW</td></tr><tr><td>67</td><td>Hon-M216</td><td>Hon</td></tr><tr><td>68</td><td>Toy-M106</td><td>Toy</td></tr><tr><td>69</td><td>Ren-M132</td><td>Ren</td></tr><tr><td>70</td><td>Tat-M191</td><td>Tat</td></tr><tr><td>71</td><td>For-M21</td><td>For</td></tr><tr><td>72</td><td>Acu-M63</td><td>Acu</td></tr><tr><td>73</td><td>Acu-M59</td><td>Acu</td></tr><tr><td>74</td><td>Ram-M15</td><td>Ram</td></tr><tr><td>75</td><td>Nis-M88</td><td>Nis</td></tr><tr><td>76</td><td>BMW-M242</td><td>BMW</td></tr><tr><td>77</td><td>GMC-M52</td><td>GMC</td></tr><tr><td>78</td><td>Mar-M146</td><td>Mar</td></tr><tr><td>79</td><td>Aud-M239</td><td>Aud</td></tr><tr><td>80</td><td>Jee-M10</td><td>Jee</td></tr><tr><td>81</td><td>Aud-M233</td><td>Aud</td></tr><tr><td>82</td><td>Sko-M271</td><td>Sko</td></tr><tr><td>83</td><td>BMW-M245</td><td>BMW</td></tr><tr><td>84</td><td>Aud-M241</td><td>Aud</td></tr><tr><td>85</td><td>Vol-M259</td><td>Vol</td></tr><tr><td>86</td><td>Ram-M14</td><td>Ram</td></tr><tr><td>87</td><td>Nis-M262</td><td>Nis</td></tr><tr><td>88</td><td>Tat-M194</td><td>Tat</td></tr><tr><td>89</td><td>Aud-M238</td><td>Aud</td></tr><tr><td>90</td><td>MG-M251</td><td>MG</td></tr><tr><td>91</td><td>Jee-M254</td><td>Jee</td></tr><tr><td>92</td><td>Riv-M91</td><td>Riv</td></tr><tr><td>93</td><td>Che-M49</td><td>Che</td></tr><tr><td>94</td><td>Toy-M105</td><td>Toy</td></tr><tr><td>95</td><td>Hyu-M159</td><td>Hyu</td></tr><tr><td>96</td><td>Vol-M255</td><td>Vol</td></tr><tr><td>97</td><td>Tat-M188</td><td>Tat</td></tr><tr><td>98</td><td>BMW-M4</td><td>BMW</td></tr><tr><td>99</td><td>Toy-M200</td><td>Toy</td></tr><tr><td>100</td><td>Toy-M103</td><td>Toy</td></tr><tr><td>101</td><td>BMW-M247</td><td>BMW</td></tr><tr><td>102</td><td>Mah-M176</td><td>Mah</td></tr><tr><td>103</td><td>For-M221</td><td>For</td></tr><tr><td>104</td><td>Nis-M266</td><td>Nis</td></tr><tr><td>105</td><td>For-M17</td><td>For</td></tr><tr><td>106</td><td>Hyu-M154</td><td>Hyu</td></tr><tr><td>107</td><td>Mer-M7</td><td>Mer</td></tr><tr><td>108</td><td>Tes-M96</td><td>Tes</td></tr><tr><td>109</td><td>Lin-M30</td><td>Lin</td></tr><tr><td>110</td><td>Hon-M218</td><td>Hon</td></tr><tr><td>111</td><td>Vol-M108</td><td>Vol</td></tr><tr><td>112</td><td>Mah-M165</td><td>Mah</td></tr><tr><td>113</td><td>Hon-M66</td><td>Hon</td></tr><tr><td>114</td><td>Toy-M202</td><td>Toy</td></tr><tr><td>115</td><td>Cad-M36</td><td>Cad</td></tr><tr><td>116</td><td>Sub-M95</td><td>Sub</td></tr><tr><td>117</td><td>Tat-M181</td><td>Tat</td></tr><tr><td>118</td><td>Cad-M32</td><td>Cad</td></tr><tr><td>119</td><td>Hyu-M73</td><td>Hyu</td></tr><tr><td>120</td><td>Nis-M267</td><td>Nis</td></tr><tr><td>121</td><td>GMC-M53</td><td>GMC</td></tr><tr><td>122</td><td>Che-M40</td><td>Che</td></tr><tr><td>123</td><td>Che-M50</td><td>Che</td></tr><tr><td>124</td><td>Mar-M152</td><td>Mar</td></tr><tr><td>125</td><td>Cad-M38</td><td>Cad</td></tr><tr><td>126</td><td>Che-M41</td><td>Che</td></tr><tr><td>127</td><td>Vol-M257</td><td>Vol</td></tr><tr><td>128</td><td>For-M225</td><td>For</td></tr><tr><td>129</td><td>For-M223</td><td>For</td></tr><tr><td>130</td><td>Ren-M131</td><td>Ren</td></tr><tr><td>131</td><td>Che-M43</td><td>Che</td></tr><tr><td>132</td><td>Mah-M166</td><td>Mah</td></tr><tr><td>133</td><td>Mar-M151</td><td>Mar</td></tr><tr><td>134</td><td>Sub-M93</td><td>Sub</td></tr><tr><td>135</td><td>GMC-M57</td><td>GMC</td></tr><tr><td>136</td><td>Agr-M112</td><td>Agr</td></tr><tr><td>137</td><td>Mar-M138</td><td>Mar</td></tr><tr><td>138</td><td>Mar-M149</td><td>Mar</td></tr><tr><td>139</td><td>Che-M47</td><td>Che</td></tr><tr><td>140</td><td>Toy-M204</td><td>Toy</td></tr><tr><td>141</td><td>Cad-M39</td><td>Cad</td></tr><tr><td>142</td><td>Cad-M33</td><td>Cad</td></tr><tr><td>143</td><td>Hyu-M160</td><td>Hyu</td></tr><tr><td>144</td><td>Mah-M171</td><td>Mah</td></tr><tr><td>145</td><td>Tat-M184</td><td>Tat</td></tr><tr><td>146</td><td>Agr-M111</td><td>Agr</td></tr><tr><td>147</td><td>Lin-M27</td><td>Lin</td></tr><tr><td>148</td><td>Ren-M211</td><td>Ren</td></tr><tr><td>149</td><td>Nis-M265</td><td>Nis</td></tr><tr><td>150</td><td>Tat-M193</td><td>Tat</td></tr><tr><td>151</td><td>Che-M44</td><td>Che</td></tr><tr><td>152</td><td>Ren-M208</td><td>Ren</td></tr><tr><td>153</td><td>Aud-M231</td><td>Aud</td></tr><tr><td>154</td><td>MG-M252</td><td>MG</td></tr><tr><td>155</td><td>Tat-M182</td><td>Tat</td></tr><tr><td>156</td><td>GMC-M56</td><td>GMC</td></tr><tr><td>157</td><td>Mar-M141</td><td>Mar</td></tr><tr><td>158</td><td>Hyu-M164</td><td>Hyu</td></tr><tr><td>159</td><td>Peu-M125</td><td>Peu</td></tr><tr><td>160</td><td>Nis-M263</td><td>Nis</td></tr><tr><td>161</td><td>Hyu-M72</td><td>Hyu</td></tr><tr><td>162</td><td>Mit-M277</td><td>Mit</td></tr><tr><td>163</td><td>Toy-M101</td><td>Toy</td></tr><tr><td>164</td><td>For-M22</td><td>For</td></tr><tr><td>165</td><td>BMW-M248</td><td>BMW</td></tr><tr><td>166</td><td>Nis-M84</td><td>Nis</td></tr><tr><td>167</td><td>Mar-M150</td><td>Mar</td></tr><tr><td>168</td><td>Mar-M143</td><td>Mar</td></tr><tr><td>169</td><td>BMW-M246</td><td>BMW</td></tr><tr><td>170</td><td>Cad-M37</td><td>Cad</td></tr><tr><td>171</td><td>Nis-M268</td><td>Nis</td></tr><tr><td>172</td><td>Kia-M76</td><td>Kia</td></tr><tr><td>173</td><td>Aud-M228</td><td>Aud</td></tr><tr><td>174</td><td>Peu-M126</td><td>Peu</td></tr><tr><td>175</td><td>Tes-M97</td><td>Tes</td></tr><tr><td>176</td><td>Mah-M175</td><td>Mah</td></tr><tr><td>177</td><td>Hyu-M156</td><td>Hyu</td></tr><tr><td>178</td><td>Lin-M28</td><td>Lin</td></tr><tr><td>179</td><td>Toy-M107</td><td>Toy</td></tr><tr><td>180</td><td>Sub-M92</td><td>Sub</td></tr><tr><td>181</td><td>Che-M48</td><td>Che</td></tr><tr><td>182</td><td>For-M26</td><td>For</td></tr><tr><td>183</td><td>Vol-M135</td><td>Vol</td></tr><tr><td>184</td><td>Tat-M187</td><td>Tat</td></tr><tr><td>185</td><td>Hon-M120</td><td>Hon</td></tr><tr><td>186</td><td>Hyu-M163</td><td>Hyu</td></tr><tr><td>187</td><td>Mah-M177</td><td>Mah</td></tr><tr><td>188</td><td>Tat-M192</td><td>Tat</td></tr><tr><td>189</td><td>Kia-M77</td><td>Kia</td></tr><tr><td>190</td><td>Toy-M196</td><td>Toy</td></tr><tr><td>191</td><td>GMC-M58</td><td>GMC</td></tr><tr><td>192</td><td>Mah-M167</td><td>Mah</td></tr><tr><td>193</td><td>BMW-M5</td><td>BMW</td></tr><tr><td>194</td><td>BMW-M249</td><td>BMW</td></tr><tr><td>195</td><td>Mah-M172</td><td>Mah</td></tr><tr><td>196</td><td>Sub-M94</td><td>Sub</td></tr><tr><td>197</td><td>Tat-M180</td><td>Tat</td></tr><tr><td>198</td><td>For-M25</td><td>For</td></tr><tr><td>199</td><td>Che-M42</td><td>Che</td></tr><tr><td>200</td><td>Mer-M123</td><td>Mer</td></tr><tr><td>201</td><td>Peu-M124</td><td>Peu</td></tr><tr><td>202</td><td>Dod-M9</td><td>Dod</td></tr><tr><td>203</td><td>Mar-M140</td><td>Mar</td></tr><tr><td>204</td><td>For-M119</td><td>For</td></tr><tr><td>205</td><td>Tes-M98</td><td>Tes</td></tr><tr><td>206</td><td>Toy-M205</td><td>Toy</td></tr><tr><td>207</td><td>Ren-M129</td><td>Ren</td></tr><tr><td>208</td><td>Aud-M237</td><td>Aud</td></tr><tr><td>209</td><td>Toy-M133</td><td>Toy</td></tr><tr><td>210</td><td>Nis-M82</td><td>Nis</td></tr><tr><td>211</td><td>Tat-M183</td><td>Tat</td></tr><tr><td>212</td><td>Che-M51</td><td>Che</td></tr><tr><td>213</td><td>Jee-M11</td><td>Jee</td></tr><tr><td>214</td><td>Ren-M128</td><td>Ren</td></tr><tr><td>215</td><td>Cad-M34</td><td>Cad</td></tr><tr><td>216</td><td>Che-M46</td><td>Che</td></tr><tr><td>217</td><td>Ren-M127</td><td>Ren</td></tr><tr><td>218</td><td>Agr-M113</td><td>Agr</td></tr><tr><td>219</td><td>Toy-M199</td><td>Toy</td></tr><tr><td>220</td><td>Mar-M145</td><td>Mar</td></tr><tr><td>221</td><td>Sko-M273</td><td>Sko</td></tr><tr><td>222</td><td>Nis-M270</td><td>Nis</td></tr><tr><td>223</td><td>Aud-M235</td><td>Aud</td></tr><tr><td>224</td><td>Cad-M35</td><td>Cad</td></tr><tr><td>225</td><td>Mer-M8</td><td>Mer</td></tr><tr><td>226</td><td>For-M23</td><td>For</td></tr><tr><td>227</td><td>Aud-M236</td><td>Aud</td></tr><tr><td>228</td><td>Lex-M99</td><td>Lex</td></tr><tr><td>229</td><td>Ren-M209</td><td>Ren</td></tr><tr><td>230</td><td>Kia-M78</td><td>Kia</td></tr><tr><td>231</td><td>Mah-M169</td><td>Mah</td></tr><tr><td>232</td><td>BMW-M3</td><td>BMW</td></tr><tr><td>233</td><td>For-M16</td><td>For</td></tr><tr><td>234</td><td>Nis-M80</td><td>Nis</td></tr><tr><td>235</td><td>Toy-M201</td><td>Toy</td></tr><tr><td>236</td><td>Che-M45</td><td>Che</td></tr><tr><td>237</td><td>Mit-M275</td><td>Mit</td></tr><tr><td>238</td><td>Toy-M197</td><td>Toy</td></tr><tr><td>239</td><td>Tat-M190</td><td>Tat</td></tr><tr><td>240</td><td>Hon-M65</td><td>Hon</td></tr><tr><td>241</td><td>Toy-M102</td><td>Toy</td></tr><tr><td>242</td><td>Hon-M67</td><td>Hon</td></tr><tr><td>243</td><td>Sko-M274</td><td>Sko</td></tr><tr><td>244</td><td>Mah-M168</td><td>Mah</td></tr><tr><td>245</td><td>Mer-M6</td><td>Mer</td></tr><tr><td>246</td><td>Ren-M207</td><td>Ren</td></tr><tr><td>247</td><td>Hon-M68</td><td>Hon</td></tr><tr><td>248</td><td>Hon-M69</td><td>Hon</td></tr><tr><td>249</td><td>Kia-M214</td><td>Kia</td></tr><tr><td>250</td><td>Mar-M144</td><td>Mar</td></tr><tr><td>251</td><td>Sko-M272</td><td>Sko</td></tr><tr><td>252</td><td>Mit-M276</td><td>Mit</td></tr><tr><td>253</td><td>Mar-M148</td><td>Mar</td></tr><tr><td>254</td><td>For-M24</td><td>For</td></tr><tr><td>255</td><td>Mah-M170</td><td>Mah</td></tr><tr><td>256</td><td>Acu-M62</td><td>Acu</td></tr><tr><td>257</td><td>Hyu-M162</td><td>Hyu</td></tr><tr><td>258</td><td>Hyu-M155</td><td>Hyu</td></tr><tr><td>259</td><td>Ren-M210</td><td>Ren</td></tr><tr><td>260</td><td>Aud-M229</td><td>Aud</td></tr><tr><td>261</td><td>Tat-M185</td><td>Tat</td></tr><tr><td>262</td><td>Vol-M109</td><td>Vol</td></tr><tr><td>263</td><td>Mar-M147</td><td>Mar</td></tr><tr><td>264</td><td>Hyu-M153</td><td>Hyu</td></tr><tr><td>265</td><td>For-M224</td><td>For</td></tr><tr><td>266</td><td>Nis-M89</td><td>Nis</td></tr><tr><td>267</td><td>Riv-M90</td><td>Riv</td></tr><tr><td>268</td><td>Mar-M139</td><td>Mar</td></tr><tr><td>269</td><td>Jee-M13</td><td>Jee</td></tr><tr><td>270</td><td>Tat-M189</td><td>Tat</td></tr><tr><td>271</td><td>Toy-M134</td><td>Toy</td></tr><tr><td>272</td><td>Mah-M174</td><td>Mah</td></tr><tr><td>273</td><td>Aud-M230</td><td>Aud</td></tr><tr><td>274</td><td>Toy-M195</td><td>Toy</td></tr><tr><td>275</td><td>Fia-M117</td><td>Fia</td></tr><tr><td>276</td><td>For-M222</td><td>For</td></tr><tr><td>277</td><td>Tat-M186</td><td>Tat</td></tr><tr><td>1</td><td>Hon-M220</td><td>Hon</td></tr></tbody></table></div>"
      ]
     },
     "metadata": {
      "application/vnd.databricks.v1+output": {
       "addedWidgets": {},
       "aggData": [],
       "aggError": "",
       "aggOverflow": false,
       "aggSchema": [],
       "aggSeriesLimitReached": false,
       "aggType": "",
       "arguments": {},
       "columnCustomDisplayInfos": {},
       "data": [
        [
         2,
         "Hon-M215",
         "Hon"
        ],
        [
         3,
         "Vol-M110",
         "Vol"
        ],
        [
         4,
         "Vol-M260",
         "Vol"
        ],
        [
         5,
         "BMW-M2",
         "BMW"
        ],
        [
         6,
         "Acu-M60",
         "Acu"
        ],
        [
         7,
         "Bui-M31",
         "Bui"
        ],
        [
         8,
         "Hyu-M157",
         "Hyu"
        ],
        [
         9,
         "Ren-M130",
         "Ren"
        ],
        [
         10,
         "Tat-M179",
         "Tat"
        ],
        [
         11,
         "Lin-M29",
         "Lin"
        ],
        [
         12,
         "Aud-M227",
         "Aud"
        ],
        [
         13,
         "Aud-M234",
         "Aud"
        ],
        [
         14,
         "Mar-M142",
         "Mar"
        ],
        [
         15,
         "Kia-M212",
         "Kia"
        ],
        [
         16,
         "Toy-M198",
         "Toy"
        ],
        [
         17,
         "For-M20",
         "For"
        ],
        [
         18,
         "Mah-M178",
         "Mah"
        ],
        [
         19,
         "Hyu-M161",
         "Hyu"
        ],
        [
         20,
         "Nis-M86",
         "Nis"
        ],
        [
         21,
         "Hon-M217",
         "Hon"
        ],
        [
         22,
         "BMW-M1",
         "BMW"
        ],
        [
         23,
         "Vol-M256",
         "Vol"
        ],
        [
         24,
         "Nis-M264",
         "Nis"
        ],
        [
         25,
         "Hyu-M158",
         "Hyu"
        ],
        [
         26,
         "Vol-M136",
         "Vol"
        ],
        [
         27,
         "Toy-M100",
         "Toy"
        ],
        [
         28,
         "Hyu-M74",
         "Hyu"
        ],
        [
         29,
         "Aud-M240",
         "Aud"
        ],
        [
         30,
         "Nis-M85",
         "Nis"
        ],
        [
         31,
         "Nis-M269",
         "Nis"
        ],
        [
         32,
         "BMW-M250",
         "BMW"
        ],
        [
         33,
         "Toy-M203",
         "Toy"
        ],
        [
         34,
         "Kia-M213",
         "Kia"
        ],
        [
         35,
         "Che-M114",
         "Che"
        ],
        [
         36,
         "Nis-M83",
         "Nis"
        ],
        [
         37,
         "Fia-M118",
         "Fia"
        ],
        [
         38,
         "For-M18",
         "For"
        ],
        [
         39,
         "Toy-M104",
         "Toy"
        ],
        [
         40,
         "Mer-M122",
         "Mer"
        ],
        [
         41,
         "Cit-M116",
         "Cit"
        ],
        [
         42,
         "Nis-M261",
         "Nis"
        ],
        [
         43,
         "Mah-M173",
         "Mah"
        ],
        [
         44,
         "Mer-M121",
         "Mer"
        ],
        [
         45,
         "BMW-M243",
         "BMW"
        ],
        [
         46,
         "Nis-M87",
         "Nis"
        ],
        [
         47,
         "Toy-M206",
         "Toy"
        ],
        [
         48,
         "Hon-M64",
         "Hon"
        ],
        [
         49,
         "Vol-M258",
         "Vol"
        ],
        [
         50,
         "For-M19",
         "For"
        ],
        [
         51,
         "Hon-M219",
         "Hon"
        ],
        [
         52,
         "GMC-M55",
         "GMC"
        ],
        [
         53,
         "Inf-M79",
         "Inf"
        ],
        [
         54,
         "Jee-M253",
         "Jee"
        ],
        [
         55,
         "Hon-M70",
         "Hon"
        ],
        [
         56,
         "GMC-M54",
         "GMC"
        ],
        [
         57,
         "Hon-M71",
         "Hon"
        ],
        [
         58,
         "Jee-M12",
         "Jee"
        ],
        [
         59,
         "Mar-M137",
         "Mar"
        ],
        [
         60,
         "Nis-M81",
         "Nis"
        ],
        [
         61,
         "Hyu-M75",
         "Hyu"
        ],
        [
         62,
         "Aud-M232",
         "Aud"
        ],
        [
         63,
         "Acu-M61",
         "Acu"
        ],
        [
         64,
         "For-M226",
         "For"
        ],
        [
         65,
         "Cit-M115",
         "Cit"
        ],
        [
         66,
         "BMW-M244",
         "BMW"
        ],
        [
         67,
         "Hon-M216",
         "Hon"
        ],
        [
         68,
         "Toy-M106",
         "Toy"
        ],
        [
         69,
         "Ren-M132",
         "Ren"
        ],
        [
         70,
         "Tat-M191",
         "Tat"
        ],
        [
         71,
         "For-M21",
         "For"
        ],
        [
         72,
         "Acu-M63",
         "Acu"
        ],
        [
         73,
         "Acu-M59",
         "Acu"
        ],
        [
         74,
         "Ram-M15",
         "Ram"
        ],
        [
         75,
         "Nis-M88",
         "Nis"
        ],
        [
         76,
         "BMW-M242",
         "BMW"
        ],
        [
         77,
         "GMC-M52",
         "GMC"
        ],
        [
         78,
         "Mar-M146",
         "Mar"
        ],
        [
         79,
         "Aud-M239",
         "Aud"
        ],
        [
         80,
         "Jee-M10",
         "Jee"
        ],
        [
         81,
         "Aud-M233",
         "Aud"
        ],
        [
         82,
         "Sko-M271",
         "Sko"
        ],
        [
         83,
         "BMW-M245",
         "BMW"
        ],
        [
         84,
         "Aud-M241",
         "Aud"
        ],
        [
         85,
         "Vol-M259",
         "Vol"
        ],
        [
         86,
         "Ram-M14",
         "Ram"
        ],
        [
         87,
         "Nis-M262",
         "Nis"
        ],
        [
         88,
         "Tat-M194",
         "Tat"
        ],
        [
         89,
         "Aud-M238",
         "Aud"
        ],
        [
         90,
         "MG-M251",
         "MG"
        ],
        [
         91,
         "Jee-M254",
         "Jee"
        ],
        [
         92,
         "Riv-M91",
         "Riv"
        ],
        [
         93,
         "Che-M49",
         "Che"
        ],
        [
         94,
         "Toy-M105",
         "Toy"
        ],
        [
         95,
         "Hyu-M159",
         "Hyu"
        ],
        [
         96,
         "Vol-M255",
         "Vol"
        ],
        [
         97,
         "Tat-M188",
         "Tat"
        ],
        [
         98,
         "BMW-M4",
         "BMW"
        ],
        [
         99,
         "Toy-M200",
         "Toy"
        ],
        [
         100,
         "Toy-M103",
         "Toy"
        ],
        [
         101,
         "BMW-M247",
         "BMW"
        ],
        [
         102,
         "Mah-M176",
         "Mah"
        ],
        [
         103,
         "For-M221",
         "For"
        ],
        [
         104,
         "Nis-M266",
         "Nis"
        ],
        [
         105,
         "For-M17",
         "For"
        ],
        [
         106,
         "Hyu-M154",
         "Hyu"
        ],
        [
         107,
         "Mer-M7",
         "Mer"
        ],
        [
         108,
         "Tes-M96",
         "Tes"
        ],
        [
         109,
         "Lin-M30",
         "Lin"
        ],
        [
         110,
         "Hon-M218",
         "Hon"
        ],
        [
         111,
         "Vol-M108",
         "Vol"
        ],
        [
         112,
         "Mah-M165",
         "Mah"
        ],
        [
         113,
         "Hon-M66",
         "Hon"
        ],
        [
         114,
         "Toy-M202",
         "Toy"
        ],
        [
         115,
         "Cad-M36",
         "Cad"
        ],
        [
         116,
         "Sub-M95",
         "Sub"
        ],
        [
         117,
         "Tat-M181",
         "Tat"
        ],
        [
         118,
         "Cad-M32",
         "Cad"
        ],
        [
         119,
         "Hyu-M73",
         "Hyu"
        ],
        [
         120,
         "Nis-M267",
         "Nis"
        ],
        [
         121,
         "GMC-M53",
         "GMC"
        ],
        [
         122,
         "Che-M40",
         "Che"
        ],
        [
         123,
         "Che-M50",
         "Che"
        ],
        [
         124,
         "Mar-M152",
         "Mar"
        ],
        [
         125,
         "Cad-M38",
         "Cad"
        ],
        [
         126,
         "Che-M41",
         "Che"
        ],
        [
         127,
         "Vol-M257",
         "Vol"
        ],
        [
         128,
         "For-M225",
         "For"
        ],
        [
         129,
         "For-M223",
         "For"
        ],
        [
         130,
         "Ren-M131",
         "Ren"
        ],
        [
         131,
         "Che-M43",
         "Che"
        ],
        [
         132,
         "Mah-M166",
         "Mah"
        ],
        [
         133,
         "Mar-M151",
         "Mar"
        ],
        [
         134,
         "Sub-M93",
         "Sub"
        ],
        [
         135,
         "GMC-M57",
         "GMC"
        ],
        [
         136,
         "Agr-M112",
         "Agr"
        ],
        [
         137,
         "Mar-M138",
         "Mar"
        ],
        [
         138,
         "Mar-M149",
         "Mar"
        ],
        [
         139,
         "Che-M47",
         "Che"
        ],
        [
         140,
         "Toy-M204",
         "Toy"
        ],
        [
         141,
         "Cad-M39",
         "Cad"
        ],
        [
         142,
         "Cad-M33",
         "Cad"
        ],
        [
         143,
         "Hyu-M160",
         "Hyu"
        ],
        [
         144,
         "Mah-M171",
         "Mah"
        ],
        [
         145,
         "Tat-M184",
         "Tat"
        ],
        [
         146,
         "Agr-M111",
         "Agr"
        ],
        [
         147,
         "Lin-M27",
         "Lin"
        ],
        [
         148,
         "Ren-M211",
         "Ren"
        ],
        [
         149,
         "Nis-M265",
         "Nis"
        ],
        [
         150,
         "Tat-M193",
         "Tat"
        ],
        [
         151,
         "Che-M44",
         "Che"
        ],
        [
         152,
         "Ren-M208",
         "Ren"
        ],
        [
         153,
         "Aud-M231",
         "Aud"
        ],
        [
         154,
         "MG-M252",
         "MG"
        ],
        [
         155,
         "Tat-M182",
         "Tat"
        ],
        [
         156,
         "GMC-M56",
         "GMC"
        ],
        [
         157,
         "Mar-M141",
         "Mar"
        ],
        [
         158,
         "Hyu-M164",
         "Hyu"
        ],
        [
         159,
         "Peu-M125",
         "Peu"
        ],
        [
         160,
         "Nis-M263",
         "Nis"
        ],
        [
         161,
         "Hyu-M72",
         "Hyu"
        ],
        [
         162,
         "Mit-M277",
         "Mit"
        ],
        [
         163,
         "Toy-M101",
         "Toy"
        ],
        [
         164,
         "For-M22",
         "For"
        ],
        [
         165,
         "BMW-M248",
         "BMW"
        ],
        [
         166,
         "Nis-M84",
         "Nis"
        ],
        [
         167,
         "Mar-M150",
         "Mar"
        ],
        [
         168,
         "Mar-M143",
         "Mar"
        ],
        [
         169,
         "BMW-M246",
         "BMW"
        ],
        [
         170,
         "Cad-M37",
         "Cad"
        ],
        [
         171,
         "Nis-M268",
         "Nis"
        ],
        [
         172,
         "Kia-M76",
         "Kia"
        ],
        [
         173,
         "Aud-M228",
         "Aud"
        ],
        [
         174,
         "Peu-M126",
         "Peu"
        ],
        [
         175,
         "Tes-M97",
         "Tes"
        ],
        [
         176,
         "Mah-M175",
         "Mah"
        ],
        [
         177,
         "Hyu-M156",
         "Hyu"
        ],
        [
         178,
         "Lin-M28",
         "Lin"
        ],
        [
         179,
         "Toy-M107",
         "Toy"
        ],
        [
         180,
         "Sub-M92",
         "Sub"
        ],
        [
         181,
         "Che-M48",
         "Che"
        ],
        [
         182,
         "For-M26",
         "For"
        ],
        [
         183,
         "Vol-M135",
         "Vol"
        ],
        [
         184,
         "Tat-M187",
         "Tat"
        ],
        [
         185,
         "Hon-M120",
         "Hon"
        ],
        [
         186,
         "Hyu-M163",
         "Hyu"
        ],
        [
         187,
         "Mah-M177",
         "Mah"
        ],
        [
         188,
         "Tat-M192",
         "Tat"
        ],
        [
         189,
         "Kia-M77",
         "Kia"
        ],
        [
         190,
         "Toy-M196",
         "Toy"
        ],
        [
         191,
         "GMC-M58",
         "GMC"
        ],
        [
         192,
         "Mah-M167",
         "Mah"
        ],
        [
         193,
         "BMW-M5",
         "BMW"
        ],
        [
         194,
         "BMW-M249",
         "BMW"
        ],
        [
         195,
         "Mah-M172",
         "Mah"
        ],
        [
         196,
         "Sub-M94",
         "Sub"
        ],
        [
         197,
         "Tat-M180",
         "Tat"
        ],
        [
         198,
         "For-M25",
         "For"
        ],
        [
         199,
         "Che-M42",
         "Che"
        ],
        [
         200,
         "Mer-M123",
         "Mer"
        ],
        [
         201,
         "Peu-M124",
         "Peu"
        ],
        [
         202,
         "Dod-M9",
         "Dod"
        ],
        [
         203,
         "Mar-M140",
         "Mar"
        ],
        [
         204,
         "For-M119",
         "For"
        ],
        [
         205,
         "Tes-M98",
         "Tes"
        ],
        [
         206,
         "Toy-M205",
         "Toy"
        ],
        [
         207,
         "Ren-M129",
         "Ren"
        ],
        [
         208,
         "Aud-M237",
         "Aud"
        ],
        [
         209,
         "Toy-M133",
         "Toy"
        ],
        [
         210,
         "Nis-M82",
         "Nis"
        ],
        [
         211,
         "Tat-M183",
         "Tat"
        ],
        [
         212,
         "Che-M51",
         "Che"
        ],
        [
         213,
         "Jee-M11",
         "Jee"
        ],
        [
         214,
         "Ren-M128",
         "Ren"
        ],
        [
         215,
         "Cad-M34",
         "Cad"
        ],
        [
         216,
         "Che-M46",
         "Che"
        ],
        [
         217,
         "Ren-M127",
         "Ren"
        ],
        [
         218,
         "Agr-M113",
         "Agr"
        ],
        [
         219,
         "Toy-M199",
         "Toy"
        ],
        [
         220,
         "Mar-M145",
         "Mar"
        ],
        [
         221,
         "Sko-M273",
         "Sko"
        ],
        [
         222,
         "Nis-M270",
         "Nis"
        ],
        [
         223,
         "Aud-M235",
         "Aud"
        ],
        [
         224,
         "Cad-M35",
         "Cad"
        ],
        [
         225,
         "Mer-M8",
         "Mer"
        ],
        [
         226,
         "For-M23",
         "For"
        ],
        [
         227,
         "Aud-M236",
         "Aud"
        ],
        [
         228,
         "Lex-M99",
         "Lex"
        ],
        [
         229,
         "Ren-M209",
         "Ren"
        ],
        [
         230,
         "Kia-M78",
         "Kia"
        ],
        [
         231,
         "Mah-M169",
         "Mah"
        ],
        [
         232,
         "BMW-M3",
         "BMW"
        ],
        [
         233,
         "For-M16",
         "For"
        ],
        [
         234,
         "Nis-M80",
         "Nis"
        ],
        [
         235,
         "Toy-M201",
         "Toy"
        ],
        [
         236,
         "Che-M45",
         "Che"
        ],
        [
         237,
         "Mit-M275",
         "Mit"
        ],
        [
         238,
         "Toy-M197",
         "Toy"
        ],
        [
         239,
         "Tat-M190",
         "Tat"
        ],
        [
         240,
         "Hon-M65",
         "Hon"
        ],
        [
         241,
         "Toy-M102",
         "Toy"
        ],
        [
         242,
         "Hon-M67",
         "Hon"
        ],
        [
         243,
         "Sko-M274",
         "Sko"
        ],
        [
         244,
         "Mah-M168",
         "Mah"
        ],
        [
         245,
         "Mer-M6",
         "Mer"
        ],
        [
         246,
         "Ren-M207",
         "Ren"
        ],
        [
         247,
         "Hon-M68",
         "Hon"
        ],
        [
         248,
         "Hon-M69",
         "Hon"
        ],
        [
         249,
         "Kia-M214",
         "Kia"
        ],
        [
         250,
         "Mar-M144",
         "Mar"
        ],
        [
         251,
         "Sko-M272",
         "Sko"
        ],
        [
         252,
         "Mit-M276",
         "Mit"
        ],
        [
         253,
         "Mar-M148",
         "Mar"
        ],
        [
         254,
         "For-M24",
         "For"
        ],
        [
         255,
         "Mah-M170",
         "Mah"
        ],
        [
         256,
         "Acu-M62",
         "Acu"
        ],
        [
         257,
         "Hyu-M162",
         "Hyu"
        ],
        [
         258,
         "Hyu-M155",
         "Hyu"
        ],
        [
         259,
         "Ren-M210",
         "Ren"
        ],
        [
         260,
         "Aud-M229",
         "Aud"
        ],
        [
         261,
         "Tat-M185",
         "Tat"
        ],
        [
         262,
         "Vol-M109",
         "Vol"
        ],
        [
         263,
         "Mar-M147",
         "Mar"
        ],
        [
         264,
         "Hyu-M153",
         "Hyu"
        ],
        [
         265,
         "For-M224",
         "For"
        ],
        [
         266,
         "Nis-M89",
         "Nis"
        ],
        [
         267,
         "Riv-M90",
         "Riv"
        ],
        [
         268,
         "Mar-M139",
         "Mar"
        ],
        [
         269,
         "Jee-M13",
         "Jee"
        ],
        [
         270,
         "Tat-M189",
         "Tat"
        ],
        [
         271,
         "Toy-M134",
         "Toy"
        ],
        [
         272,
         "Mah-M174",
         "Mah"
        ],
        [
         273,
         "Aud-M230",
         "Aud"
        ],
        [
         274,
         "Toy-M195",
         "Toy"
        ],
        [
         275,
         "Fia-M117",
         "Fia"
        ],
        [
         276,
         "For-M222",
         "For"
        ],
        [
         277,
         "Tat-M186",
         "Tat"
        ],
        [
         1,
         "Hon-M220",
         "Hon"
        ]
       ],
       "datasetInfos": [],
       "dbfsResultPath": null,
       "isJsonSchema": true,
       "metadata": {},
       "overflow": false,
       "plotOptions": {
        "customPlotOptions": {},
        "displayType": "table",
        "pivotAggregation": null,
        "pivotColumns": null,
        "xColumns": null,
        "yColumns": null
       },
       "removedWidgets": [],
       "schema": [
        {
         "metadata": "{}",
         "name": "dim_model_id",
         "type": "\"long\""
        },
        {
         "metadata": "{}",
         "name": "Model_ID",
         "type": "\"string\""
        },
        {
         "metadata": "{}",
         "name": "Model_Category",
         "type": "\"string\""
        }
       ],
       "type": "table"
      }
     },
     "output_type": "display_data"
    }
   ],
   "source": [
    "data_sink.display()"
   ]
  },
  {
   "cell_type": "code",
   "execution_count": 0,
   "metadata": {
    "application/vnd.databricks.v1+cell": {
     "cellMetadata": {
      "byteLimit": 2048000,
      "rowLimit": 10000
     },
     "inputWidgets": {},
     "nuid": "5bc6dad7-19cc-47a5-8b7d-9e93c3271a65",
     "showTitle": false,
     "tableResultSettingsMap": {},
     "title": ""
    }
   },
   "outputs": [],
   "source": [
    "joined_dim_table = silver_layer_data.join(data_sink, ['Model_ID', 'Model_Category'], 'left')"
   ]
  },
  {
   "cell_type": "code",
   "execution_count": 0,
   "metadata": {
    "application/vnd.databricks.v1+cell": {
     "cellMetadata": {
      "byteLimit": 2048000,
      "rowLimit": 10000
     },
     "inputWidgets": {},
     "nuid": "bc9282ce-88d7-45ae-83f2-0bc0697ffc8f",
     "showTitle": false,
     "tableResultSettingsMap": {},
     "title": ""
    }
   },
   "outputs": [
    {
     "output_type": "display_data",
     "data": {
      "text/html": [
       "<style scoped>\n",
       "  .table-result-container {\n",
       "    max-height: 300px;\n",
       "    overflow: auto;\n",
       "  }\n",
       "  table, th, td {\n",
       "    border: 1px solid black;\n",
       "    border-collapse: collapse;\n",
       "  }\n",
       "  th, td {\n",
       "    padding: 5px;\n",
       "  }\n",
       "  th {\n",
       "    text-align: left;\n",
       "  }\n",
       "</style><div class='table-result-container'><table class='table-result'><thead style='background-color: white'><tr><th>Model_ID</th><th>Model_Category</th><th>dim_model_id</th></tr></thead><tbody><tr><td>Hon-M220</td><td>Hon</td><td>1</td></tr><tr><td>Hon-M215</td><td>Hon</td><td>2</td></tr><tr><td>Vol-M110</td><td>Vol</td><td>3</td></tr><tr><td>Vol-M260</td><td>Vol</td><td>4</td></tr><tr><td>BMW-M2</td><td>BMW</td><td>5</td></tr><tr><td>Acu-M60</td><td>Acu</td><td>6</td></tr><tr><td>Bui-M31</td><td>Bui</td><td>7</td></tr><tr><td>Hyu-M157</td><td>Hyu</td><td>8</td></tr><tr><td>Ren-M130</td><td>Ren</td><td>9</td></tr><tr><td>Tat-M179</td><td>Tat</td><td>10</td></tr><tr><td>Lin-M29</td><td>Lin</td><td>11</td></tr><tr><td>Aud-M227</td><td>Aud</td><td>12</td></tr><tr><td>Aud-M234</td><td>Aud</td><td>13</td></tr><tr><td>Mar-M142</td><td>Mar</td><td>14</td></tr><tr><td>Kia-M212</td><td>Kia</td><td>15</td></tr><tr><td>Toy-M198</td><td>Toy</td><td>16</td></tr><tr><td>For-M20</td><td>For</td><td>17</td></tr><tr><td>Mah-M178</td><td>Mah</td><td>18</td></tr><tr><td>Hyu-M161</td><td>Hyu</td><td>19</td></tr><tr><td>Nis-M86</td><td>Nis</td><td>20</td></tr><tr><td>Hon-M217</td><td>Hon</td><td>21</td></tr><tr><td>BMW-M1</td><td>BMW</td><td>22</td></tr><tr><td>Vol-M256</td><td>Vol</td><td>23</td></tr><tr><td>Nis-M264</td><td>Nis</td><td>24</td></tr><tr><td>Hyu-M158</td><td>Hyu</td><td>25</td></tr><tr><td>Vol-M136</td><td>Vol</td><td>26</td></tr><tr><td>Toy-M100</td><td>Toy</td><td>27</td></tr><tr><td>Hyu-M74</td><td>Hyu</td><td>28</td></tr><tr><td>Aud-M240</td><td>Aud</td><td>29</td></tr><tr><td>Nis-M85</td><td>Nis</td><td>30</td></tr><tr><td>Nis-M269</td><td>Nis</td><td>31</td></tr><tr><td>BMW-M250</td><td>BMW</td><td>32</td></tr><tr><td>Toy-M203</td><td>Toy</td><td>33</td></tr><tr><td>Kia-M213</td><td>Kia</td><td>34</td></tr><tr><td>Che-M114</td><td>Che</td><td>35</td></tr><tr><td>Nis-M83</td><td>Nis</td><td>36</td></tr><tr><td>Fia-M118</td><td>Fia</td><td>37</td></tr><tr><td>For-M18</td><td>For</td><td>38</td></tr><tr><td>Toy-M104</td><td>Toy</td><td>39</td></tr><tr><td>Mer-M122</td><td>Mer</td><td>40</td></tr><tr><td>Cit-M116</td><td>Cit</td><td>41</td></tr><tr><td>Nis-M261</td><td>Nis</td><td>42</td></tr><tr><td>Mah-M173</td><td>Mah</td><td>43</td></tr><tr><td>Mer-M121</td><td>Mer</td><td>44</td></tr><tr><td>BMW-M243</td><td>BMW</td><td>45</td></tr><tr><td>Nis-M87</td><td>Nis</td><td>46</td></tr><tr><td>Toy-M206</td><td>Toy</td><td>47</td></tr><tr><td>Hon-M64</td><td>Hon</td><td>48</td></tr><tr><td>Vol-M258</td><td>Vol</td><td>49</td></tr><tr><td>For-M19</td><td>For</td><td>50</td></tr><tr><td>Hon-M219</td><td>Hon</td><td>51</td></tr><tr><td>GMC-M55</td><td>GMC</td><td>52</td></tr><tr><td>Inf-M79</td><td>Inf</td><td>53</td></tr><tr><td>Jee-M253</td><td>Jee</td><td>54</td></tr><tr><td>Hon-M70</td><td>Hon</td><td>55</td></tr><tr><td>GMC-M54</td><td>GMC</td><td>56</td></tr><tr><td>Hon-M71</td><td>Hon</td><td>57</td></tr><tr><td>Jee-M12</td><td>Jee</td><td>58</td></tr><tr><td>Mar-M137</td><td>Mar</td><td>59</td></tr><tr><td>Nis-M81</td><td>Nis</td><td>60</td></tr><tr><td>Hyu-M75</td><td>Hyu</td><td>61</td></tr><tr><td>Aud-M232</td><td>Aud</td><td>62</td></tr><tr><td>Acu-M61</td><td>Acu</td><td>63</td></tr><tr><td>For-M226</td><td>For</td><td>64</td></tr><tr><td>Cit-M115</td><td>Cit</td><td>65</td></tr><tr><td>BMW-M244</td><td>BMW</td><td>66</td></tr><tr><td>Hon-M216</td><td>Hon</td><td>67</td></tr><tr><td>Toy-M106</td><td>Toy</td><td>68</td></tr><tr><td>Ren-M132</td><td>Ren</td><td>69</td></tr><tr><td>Tat-M191</td><td>Tat</td><td>70</td></tr><tr><td>For-M21</td><td>For</td><td>71</td></tr><tr><td>Acu-M63</td><td>Acu</td><td>72</td></tr><tr><td>Acu-M59</td><td>Acu</td><td>73</td></tr><tr><td>Ram-M15</td><td>Ram</td><td>74</td></tr><tr><td>Nis-M88</td><td>Nis</td><td>75</td></tr><tr><td>BMW-M242</td><td>BMW</td><td>76</td></tr><tr><td>GMC-M52</td><td>GMC</td><td>77</td></tr><tr><td>Mar-M146</td><td>Mar</td><td>78</td></tr><tr><td>Aud-M239</td><td>Aud</td><td>79</td></tr><tr><td>Jee-M10</td><td>Jee</td><td>80</td></tr><tr><td>Aud-M233</td><td>Aud</td><td>81</td></tr><tr><td>Sko-M271</td><td>Sko</td><td>82</td></tr><tr><td>BMW-M245</td><td>BMW</td><td>83</td></tr><tr><td>Aud-M241</td><td>Aud</td><td>84</td></tr><tr><td>Vol-M259</td><td>Vol</td><td>85</td></tr><tr><td>Ram-M14</td><td>Ram</td><td>86</td></tr><tr><td>Nis-M262</td><td>Nis</td><td>87</td></tr><tr><td>Tat-M194</td><td>Tat</td><td>88</td></tr><tr><td>Aud-M238</td><td>Aud</td><td>89</td></tr><tr><td>MG-M251</td><td>MG</td><td>90</td></tr><tr><td>Jee-M254</td><td>Jee</td><td>91</td></tr><tr><td>Riv-M91</td><td>Riv</td><td>92</td></tr><tr><td>Che-M49</td><td>Che</td><td>93</td></tr><tr><td>Toy-M105</td><td>Toy</td><td>94</td></tr><tr><td>Hyu-M159</td><td>Hyu</td><td>95</td></tr><tr><td>Vol-M255</td><td>Vol</td><td>96</td></tr><tr><td>Tat-M188</td><td>Tat</td><td>97</td></tr><tr><td>BMW-M4</td><td>BMW</td><td>98</td></tr><tr><td>Toy-M200</td><td>Toy</td><td>99</td></tr><tr><td>Toy-M103</td><td>Toy</td><td>100</td></tr><tr><td>BMW-M247</td><td>BMW</td><td>101</td></tr><tr><td>Mah-M176</td><td>Mah</td><td>102</td></tr><tr><td>For-M221</td><td>For</td><td>103</td></tr><tr><td>Nis-M266</td><td>Nis</td><td>104</td></tr><tr><td>For-M17</td><td>For</td><td>105</td></tr><tr><td>Hyu-M154</td><td>Hyu</td><td>106</td></tr><tr><td>Mer-M7</td><td>Mer</td><td>107</td></tr><tr><td>Tes-M96</td><td>Tes</td><td>108</td></tr><tr><td>Lin-M30</td><td>Lin</td><td>109</td></tr><tr><td>Hon-M218</td><td>Hon</td><td>110</td></tr><tr><td>Vol-M108</td><td>Vol</td><td>111</td></tr><tr><td>Mah-M165</td><td>Mah</td><td>112</td></tr><tr><td>Hon-M66</td><td>Hon</td><td>113</td></tr><tr><td>Toy-M202</td><td>Toy</td><td>114</td></tr><tr><td>Cad-M36</td><td>Cad</td><td>115</td></tr><tr><td>Sub-M95</td><td>Sub</td><td>116</td></tr><tr><td>Tat-M181</td><td>Tat</td><td>117</td></tr><tr><td>Cad-M32</td><td>Cad</td><td>118</td></tr><tr><td>Hyu-M73</td><td>Hyu</td><td>119</td></tr><tr><td>Nis-M267</td><td>Nis</td><td>120</td></tr><tr><td>GMC-M53</td><td>GMC</td><td>121</td></tr><tr><td>Che-M40</td><td>Che</td><td>122</td></tr><tr><td>Che-M50</td><td>Che</td><td>123</td></tr><tr><td>Mar-M152</td><td>Mar</td><td>124</td></tr><tr><td>Cad-M38</td><td>Cad</td><td>125</td></tr><tr><td>Che-M41</td><td>Che</td><td>126</td></tr><tr><td>Vol-M257</td><td>Vol</td><td>127</td></tr><tr><td>For-M225</td><td>For</td><td>128</td></tr><tr><td>For-M223</td><td>For</td><td>129</td></tr><tr><td>Ren-M131</td><td>Ren</td><td>130</td></tr><tr><td>Che-M43</td><td>Che</td><td>131</td></tr><tr><td>Mah-M166</td><td>Mah</td><td>132</td></tr><tr><td>Mar-M151</td><td>Mar</td><td>133</td></tr><tr><td>Sub-M93</td><td>Sub</td><td>134</td></tr><tr><td>GMC-M57</td><td>GMC</td><td>135</td></tr><tr><td>Agr-M112</td><td>Agr</td><td>136</td></tr><tr><td>Mar-M138</td><td>Mar</td><td>137</td></tr><tr><td>Mar-M149</td><td>Mar</td><td>138</td></tr><tr><td>Che-M47</td><td>Che</td><td>139</td></tr><tr><td>Toy-M204</td><td>Toy</td><td>140</td></tr><tr><td>Cad-M39</td><td>Cad</td><td>141</td></tr><tr><td>Cad-M33</td><td>Cad</td><td>142</td></tr><tr><td>Hyu-M160</td><td>Hyu</td><td>143</td></tr><tr><td>Mah-M171</td><td>Mah</td><td>144</td></tr><tr><td>Tat-M184</td><td>Tat</td><td>145</td></tr><tr><td>Agr-M111</td><td>Agr</td><td>146</td></tr><tr><td>Lin-M27</td><td>Lin</td><td>147</td></tr><tr><td>Ren-M211</td><td>Ren</td><td>148</td></tr><tr><td>Nis-M265</td><td>Nis</td><td>149</td></tr><tr><td>Tat-M193</td><td>Tat</td><td>150</td></tr><tr><td>Che-M44</td><td>Che</td><td>151</td></tr><tr><td>Ren-M208</td><td>Ren</td><td>152</td></tr><tr><td>Aud-M231</td><td>Aud</td><td>153</td></tr><tr><td>MG-M252</td><td>MG</td><td>154</td></tr><tr><td>Tat-M182</td><td>Tat</td><td>155</td></tr><tr><td>GMC-M56</td><td>GMC</td><td>156</td></tr><tr><td>Mar-M141</td><td>Mar</td><td>157</td></tr><tr><td>Hyu-M164</td><td>Hyu</td><td>158</td></tr><tr><td>Peu-M125</td><td>Peu</td><td>159</td></tr><tr><td>Nis-M263</td><td>Nis</td><td>160</td></tr><tr><td>Hyu-M72</td><td>Hyu</td><td>161</td></tr><tr><td>Mit-M277</td><td>Mit</td><td>162</td></tr><tr><td>Toy-M101</td><td>Toy</td><td>163</td></tr><tr><td>For-M22</td><td>For</td><td>164</td></tr><tr><td>BMW-M248</td><td>BMW</td><td>165</td></tr><tr><td>Nis-M84</td><td>Nis</td><td>166</td></tr><tr><td>Mar-M150</td><td>Mar</td><td>167</td></tr><tr><td>Mar-M143</td><td>Mar</td><td>168</td></tr><tr><td>BMW-M246</td><td>BMW</td><td>169</td></tr><tr><td>Cad-M37</td><td>Cad</td><td>170</td></tr><tr><td>Nis-M268</td><td>Nis</td><td>171</td></tr><tr><td>Kia-M76</td><td>Kia</td><td>172</td></tr><tr><td>Aud-M228</td><td>Aud</td><td>173</td></tr><tr><td>Peu-M126</td><td>Peu</td><td>174</td></tr><tr><td>Tes-M97</td><td>Tes</td><td>175</td></tr><tr><td>Mah-M175</td><td>Mah</td><td>176</td></tr><tr><td>Hyu-M156</td><td>Hyu</td><td>177</td></tr><tr><td>Lin-M28</td><td>Lin</td><td>178</td></tr><tr><td>Toy-M107</td><td>Toy</td><td>179</td></tr><tr><td>Sub-M92</td><td>Sub</td><td>180</td></tr><tr><td>Che-M48</td><td>Che</td><td>181</td></tr><tr><td>For-M26</td><td>For</td><td>182</td></tr><tr><td>Vol-M135</td><td>Vol</td><td>183</td></tr><tr><td>Tat-M187</td><td>Tat</td><td>184</td></tr><tr><td>Hon-M120</td><td>Hon</td><td>185</td></tr><tr><td>Hyu-M163</td><td>Hyu</td><td>186</td></tr><tr><td>Mah-M177</td><td>Mah</td><td>187</td></tr><tr><td>Tat-M192</td><td>Tat</td><td>188</td></tr><tr><td>Kia-M77</td><td>Kia</td><td>189</td></tr><tr><td>Toy-M196</td><td>Toy</td><td>190</td></tr><tr><td>GMC-M58</td><td>GMC</td><td>191</td></tr><tr><td>Mah-M167</td><td>Mah</td><td>192</td></tr><tr><td>BMW-M5</td><td>BMW</td><td>193</td></tr><tr><td>BMW-M249</td><td>BMW</td><td>194</td></tr><tr><td>Mah-M172</td><td>Mah</td><td>195</td></tr><tr><td>Sub-M94</td><td>Sub</td><td>196</td></tr><tr><td>Tat-M180</td><td>Tat</td><td>197</td></tr><tr><td>For-M25</td><td>For</td><td>198</td></tr><tr><td>Che-M42</td><td>Che</td><td>199</td></tr><tr><td>Mer-M123</td><td>Mer</td><td>200</td></tr><tr><td>Peu-M124</td><td>Peu</td><td>201</td></tr><tr><td>Dod-M9</td><td>Dod</td><td>202</td></tr><tr><td>Mar-M140</td><td>Mar</td><td>203</td></tr><tr><td>For-M119</td><td>For</td><td>204</td></tr><tr><td>Tes-M98</td><td>Tes</td><td>205</td></tr><tr><td>Toy-M205</td><td>Toy</td><td>206</td></tr><tr><td>Ren-M129</td><td>Ren</td><td>207</td></tr><tr><td>Aud-M237</td><td>Aud</td><td>208</td></tr><tr><td>Toy-M133</td><td>Toy</td><td>209</td></tr><tr><td>Nis-M82</td><td>Nis</td><td>210</td></tr><tr><td>Tat-M183</td><td>Tat</td><td>211</td></tr><tr><td>Che-M51</td><td>Che</td><td>212</td></tr><tr><td>Jee-M11</td><td>Jee</td><td>213</td></tr><tr><td>Ren-M128</td><td>Ren</td><td>214</td></tr><tr><td>Cad-M34</td><td>Cad</td><td>215</td></tr><tr><td>Che-M46</td><td>Che</td><td>216</td></tr><tr><td>Ren-M127</td><td>Ren</td><td>217</td></tr><tr><td>Agr-M113</td><td>Agr</td><td>218</td></tr><tr><td>Toy-M199</td><td>Toy</td><td>219</td></tr><tr><td>Mar-M145</td><td>Mar</td><td>220</td></tr><tr><td>Sko-M273</td><td>Sko</td><td>221</td></tr><tr><td>Nis-M270</td><td>Nis</td><td>222</td></tr><tr><td>Aud-M235</td><td>Aud</td><td>223</td></tr><tr><td>Cad-M35</td><td>Cad</td><td>224</td></tr><tr><td>Mer-M8</td><td>Mer</td><td>225</td></tr><tr><td>For-M23</td><td>For</td><td>226</td></tr><tr><td>Aud-M236</td><td>Aud</td><td>227</td></tr><tr><td>Lex-M99</td><td>Lex</td><td>228</td></tr><tr><td>Ren-M209</td><td>Ren</td><td>229</td></tr><tr><td>Kia-M78</td><td>Kia</td><td>230</td></tr><tr><td>Mah-M169</td><td>Mah</td><td>231</td></tr><tr><td>BMW-M3</td><td>BMW</td><td>232</td></tr><tr><td>For-M16</td><td>For</td><td>233</td></tr><tr><td>Nis-M80</td><td>Nis</td><td>234</td></tr><tr><td>Toy-M201</td><td>Toy</td><td>235</td></tr><tr><td>Che-M45</td><td>Che</td><td>236</td></tr><tr><td>Mit-M275</td><td>Mit</td><td>237</td></tr><tr><td>Toy-M197</td><td>Toy</td><td>238</td></tr><tr><td>Tat-M190</td><td>Tat</td><td>239</td></tr><tr><td>Hon-M65</td><td>Hon</td><td>240</td></tr><tr><td>Toy-M102</td><td>Toy</td><td>241</td></tr><tr><td>Hon-M67</td><td>Hon</td><td>242</td></tr><tr><td>Sko-M274</td><td>Sko</td><td>243</td></tr><tr><td>Mah-M168</td><td>Mah</td><td>244</td></tr><tr><td>Mer-M6</td><td>Mer</td><td>245</td></tr><tr><td>Ren-M207</td><td>Ren</td><td>246</td></tr><tr><td>Hon-M68</td><td>Hon</td><td>247</td></tr><tr><td>Hon-M69</td><td>Hon</td><td>248</td></tr><tr><td>Kia-M214</td><td>Kia</td><td>249</td></tr><tr><td>Mar-M144</td><td>Mar</td><td>250</td></tr><tr><td>Sko-M272</td><td>Sko</td><td>251</td></tr><tr><td>Mit-M276</td><td>Mit</td><td>252</td></tr><tr><td>Mar-M148</td><td>Mar</td><td>253</td></tr><tr><td>For-M24</td><td>For</td><td>254</td></tr><tr><td>Mah-M170</td><td>Mah</td><td>255</td></tr><tr><td>Acu-M62</td><td>Acu</td><td>256</td></tr><tr><td>Hyu-M162</td><td>Hyu</td><td>257</td></tr><tr><td>Hyu-M155</td><td>Hyu</td><td>258</td></tr><tr><td>Ren-M210</td><td>Ren</td><td>259</td></tr><tr><td>Aud-M229</td><td>Aud</td><td>260</td></tr><tr><td>Tat-M185</td><td>Tat</td><td>261</td></tr><tr><td>Vol-M109</td><td>Vol</td><td>262</td></tr><tr><td>Mar-M147</td><td>Mar</td><td>263</td></tr><tr><td>Hyu-M153</td><td>Hyu</td><td>264</td></tr><tr><td>For-M224</td><td>For</td><td>265</td></tr><tr><td>Nis-M89</td><td>Nis</td><td>266</td></tr><tr><td>Riv-M90</td><td>Riv</td><td>267</td></tr><tr><td>Mar-M139</td><td>Mar</td><td>268</td></tr><tr><td>Jee-M13</td><td>Jee</td><td>269</td></tr><tr><td>Tat-M189</td><td>Tat</td><td>270</td></tr><tr><td>Toy-M134</td><td>Toy</td><td>271</td></tr><tr><td>Mah-M174</td><td>Mah</td><td>272</td></tr><tr><td>Aud-M230</td><td>Aud</td><td>273</td></tr><tr><td>Toy-M195</td><td>Toy</td><td>274</td></tr><tr><td>Fia-M117</td><td>Fia</td><td>275</td></tr><tr><td>For-M222</td><td>For</td><td>276</td></tr><tr><td>Tat-M186</td><td>Tat</td><td>277</td></tr><tr><td>ZYXM13</td><td>ZYXM13</td><td>null</td></tr></tbody></table></div>"
      ]
     },
     "metadata": {
      "application/vnd.databricks.v1+output": {
       "addedWidgets": {},
       "aggData": [],
       "aggError": "",
       "aggOverflow": false,
       "aggSchema": [],
       "aggSeriesLimitReached": false,
       "aggType": "",
       "arguments": {},
       "columnCustomDisplayInfos": {},
       "data": [
        [
         "Hon-M220",
         "Hon",
         1
        ],
        [
         "Hon-M215",
         "Hon",
         2
        ],
        [
         "Vol-M110",
         "Vol",
         3
        ],
        [
         "Vol-M260",
         "Vol",
         4
        ],
        [
         "BMW-M2",
         "BMW",
         5
        ],
        [
         "Acu-M60",
         "Acu",
         6
        ],
        [
         "Bui-M31",
         "Bui",
         7
        ],
        [
         "Hyu-M157",
         "Hyu",
         8
        ],
        [
         "Ren-M130",
         "Ren",
         9
        ],
        [
         "Tat-M179",
         "Tat",
         10
        ],
        [
         "Lin-M29",
         "Lin",
         11
        ],
        [
         "Aud-M227",
         "Aud",
         12
        ],
        [
         "Aud-M234",
         "Aud",
         13
        ],
        [
         "Mar-M142",
         "Mar",
         14
        ],
        [
         "Kia-M212",
         "Kia",
         15
        ],
        [
         "Toy-M198",
         "Toy",
         16
        ],
        [
         "For-M20",
         "For",
         17
        ],
        [
         "Mah-M178",
         "Mah",
         18
        ],
        [
         "Hyu-M161",
         "Hyu",
         19
        ],
        [
         "Nis-M86",
         "Nis",
         20
        ],
        [
         "Hon-M217",
         "Hon",
         21
        ],
        [
         "BMW-M1",
         "BMW",
         22
        ],
        [
         "Vol-M256",
         "Vol",
         23
        ],
        [
         "Nis-M264",
         "Nis",
         24
        ],
        [
         "Hyu-M158",
         "Hyu",
         25
        ],
        [
         "Vol-M136",
         "Vol",
         26
        ],
        [
         "Toy-M100",
         "Toy",
         27
        ],
        [
         "Hyu-M74",
         "Hyu",
         28
        ],
        [
         "Aud-M240",
         "Aud",
         29
        ],
        [
         "Nis-M85",
         "Nis",
         30
        ],
        [
         "Nis-M269",
         "Nis",
         31
        ],
        [
         "BMW-M250",
         "BMW",
         32
        ],
        [
         "Toy-M203",
         "Toy",
         33
        ],
        [
         "Kia-M213",
         "Kia",
         34
        ],
        [
         "Che-M114",
         "Che",
         35
        ],
        [
         "Nis-M83",
         "Nis",
         36
        ],
        [
         "Fia-M118",
         "Fia",
         37
        ],
        [
         "For-M18",
         "For",
         38
        ],
        [
         "Toy-M104",
         "Toy",
         39
        ],
        [
         "Mer-M122",
         "Mer",
         40
        ],
        [
         "Cit-M116",
         "Cit",
         41
        ],
        [
         "Nis-M261",
         "Nis",
         42
        ],
        [
         "Mah-M173",
         "Mah",
         43
        ],
        [
         "Mer-M121",
         "Mer",
         44
        ],
        [
         "BMW-M243",
         "BMW",
         45
        ],
        [
         "Nis-M87",
         "Nis",
         46
        ],
        [
         "Toy-M206",
         "Toy",
         47
        ],
        [
         "Hon-M64",
         "Hon",
         48
        ],
        [
         "Vol-M258",
         "Vol",
         49
        ],
        [
         "For-M19",
         "For",
         50
        ],
        [
         "Hon-M219",
         "Hon",
         51
        ],
        [
         "GMC-M55",
         "GMC",
         52
        ],
        [
         "Inf-M79",
         "Inf",
         53
        ],
        [
         "Jee-M253",
         "Jee",
         54
        ],
        [
         "Hon-M70",
         "Hon",
         55
        ],
        [
         "GMC-M54",
         "GMC",
         56
        ],
        [
         "Hon-M71",
         "Hon",
         57
        ],
        [
         "Jee-M12",
         "Jee",
         58
        ],
        [
         "Mar-M137",
         "Mar",
         59
        ],
        [
         "Nis-M81",
         "Nis",
         60
        ],
        [
         "Hyu-M75",
         "Hyu",
         61
        ],
        [
         "Aud-M232",
         "Aud",
         62
        ],
        [
         "Acu-M61",
         "Acu",
         63
        ],
        [
         "For-M226",
         "For",
         64
        ],
        [
         "Cit-M115",
         "Cit",
         65
        ],
        [
         "BMW-M244",
         "BMW",
         66
        ],
        [
         "Hon-M216",
         "Hon",
         67
        ],
        [
         "Toy-M106",
         "Toy",
         68
        ],
        [
         "Ren-M132",
         "Ren",
         69
        ],
        [
         "Tat-M191",
         "Tat",
         70
        ],
        [
         "For-M21",
         "For",
         71
        ],
        [
         "Acu-M63",
         "Acu",
         72
        ],
        [
         "Acu-M59",
         "Acu",
         73
        ],
        [
         "Ram-M15",
         "Ram",
         74
        ],
        [
         "Nis-M88",
         "Nis",
         75
        ],
        [
         "BMW-M242",
         "BMW",
         76
        ],
        [
         "GMC-M52",
         "GMC",
         77
        ],
        [
         "Mar-M146",
         "Mar",
         78
        ],
        [
         "Aud-M239",
         "Aud",
         79
        ],
        [
         "Jee-M10",
         "Jee",
         80
        ],
        [
         "Aud-M233",
         "Aud",
         81
        ],
        [
         "Sko-M271",
         "Sko",
         82
        ],
        [
         "BMW-M245",
         "BMW",
         83
        ],
        [
         "Aud-M241",
         "Aud",
         84
        ],
        [
         "Vol-M259",
         "Vol",
         85
        ],
        [
         "Ram-M14",
         "Ram",
         86
        ],
        [
         "Nis-M262",
         "Nis",
         87
        ],
        [
         "Tat-M194",
         "Tat",
         88
        ],
        [
         "Aud-M238",
         "Aud",
         89
        ],
        [
         "MG-M251",
         "MG",
         90
        ],
        [
         "Jee-M254",
         "Jee",
         91
        ],
        [
         "Riv-M91",
         "Riv",
         92
        ],
        [
         "Che-M49",
         "Che",
         93
        ],
        [
         "Toy-M105",
         "Toy",
         94
        ],
        [
         "Hyu-M159",
         "Hyu",
         95
        ],
        [
         "Vol-M255",
         "Vol",
         96
        ],
        [
         "Tat-M188",
         "Tat",
         97
        ],
        [
         "BMW-M4",
         "BMW",
         98
        ],
        [
         "Toy-M200",
         "Toy",
         99
        ],
        [
         "Toy-M103",
         "Toy",
         100
        ],
        [
         "BMW-M247",
         "BMW",
         101
        ],
        [
         "Mah-M176",
         "Mah",
         102
        ],
        [
         "For-M221",
         "For",
         103
        ],
        [
         "Nis-M266",
         "Nis",
         104
        ],
        [
         "For-M17",
         "For",
         105
        ],
        [
         "Hyu-M154",
         "Hyu",
         106
        ],
        [
         "Mer-M7",
         "Mer",
         107
        ],
        [
         "Tes-M96",
         "Tes",
         108
        ],
        [
         "Lin-M30",
         "Lin",
         109
        ],
        [
         "Hon-M218",
         "Hon",
         110
        ],
        [
         "Vol-M108",
         "Vol",
         111
        ],
        [
         "Mah-M165",
         "Mah",
         112
        ],
        [
         "Hon-M66",
         "Hon",
         113
        ],
        [
         "Toy-M202",
         "Toy",
         114
        ],
        [
         "Cad-M36",
         "Cad",
         115
        ],
        [
         "Sub-M95",
         "Sub",
         116
        ],
        [
         "Tat-M181",
         "Tat",
         117
        ],
        [
         "Cad-M32",
         "Cad",
         118
        ],
        [
         "Hyu-M73",
         "Hyu",
         119
        ],
        [
         "Nis-M267",
         "Nis",
         120
        ],
        [
         "GMC-M53",
         "GMC",
         121
        ],
        [
         "Che-M40",
         "Che",
         122
        ],
        [
         "Che-M50",
         "Che",
         123
        ],
        [
         "Mar-M152",
         "Mar",
         124
        ],
        [
         "Cad-M38",
         "Cad",
         125
        ],
        [
         "Che-M41",
         "Che",
         126
        ],
        [
         "Vol-M257",
         "Vol",
         127
        ],
        [
         "For-M225",
         "For",
         128
        ],
        [
         "For-M223",
         "For",
         129
        ],
        [
         "Ren-M131",
         "Ren",
         130
        ],
        [
         "Che-M43",
         "Che",
         131
        ],
        [
         "Mah-M166",
         "Mah",
         132
        ],
        [
         "Mar-M151",
         "Mar",
         133
        ],
        [
         "Sub-M93",
         "Sub",
         134
        ],
        [
         "GMC-M57",
         "GMC",
         135
        ],
        [
         "Agr-M112",
         "Agr",
         136
        ],
        [
         "Mar-M138",
         "Mar",
         137
        ],
        [
         "Mar-M149",
         "Mar",
         138
        ],
        [
         "Che-M47",
         "Che",
         139
        ],
        [
         "Toy-M204",
         "Toy",
         140
        ],
        [
         "Cad-M39",
         "Cad",
         141
        ],
        [
         "Cad-M33",
         "Cad",
         142
        ],
        [
         "Hyu-M160",
         "Hyu",
         143
        ],
        [
         "Mah-M171",
         "Mah",
         144
        ],
        [
         "Tat-M184",
         "Tat",
         145
        ],
        [
         "Agr-M111",
         "Agr",
         146
        ],
        [
         "Lin-M27",
         "Lin",
         147
        ],
        [
         "Ren-M211",
         "Ren",
         148
        ],
        [
         "Nis-M265",
         "Nis",
         149
        ],
        [
         "Tat-M193",
         "Tat",
         150
        ],
        [
         "Che-M44",
         "Che",
         151
        ],
        [
         "Ren-M208",
         "Ren",
         152
        ],
        [
         "Aud-M231",
         "Aud",
         153
        ],
        [
         "MG-M252",
         "MG",
         154
        ],
        [
         "Tat-M182",
         "Tat",
         155
        ],
        [
         "GMC-M56",
         "GMC",
         156
        ],
        [
         "Mar-M141",
         "Mar",
         157
        ],
        [
         "Hyu-M164",
         "Hyu",
         158
        ],
        [
         "Peu-M125",
         "Peu",
         159
        ],
        [
         "Nis-M263",
         "Nis",
         160
        ],
        [
         "Hyu-M72",
         "Hyu",
         161
        ],
        [
         "Mit-M277",
         "Mit",
         162
        ],
        [
         "Toy-M101",
         "Toy",
         163
        ],
        [
         "For-M22",
         "For",
         164
        ],
        [
         "BMW-M248",
         "BMW",
         165
        ],
        [
         "Nis-M84",
         "Nis",
         166
        ],
        [
         "Mar-M150",
         "Mar",
         167
        ],
        [
         "Mar-M143",
         "Mar",
         168
        ],
        [
         "BMW-M246",
         "BMW",
         169
        ],
        [
         "Cad-M37",
         "Cad",
         170
        ],
        [
         "Nis-M268",
         "Nis",
         171
        ],
        [
         "Kia-M76",
         "Kia",
         172
        ],
        [
         "Aud-M228",
         "Aud",
         173
        ],
        [
         "Peu-M126",
         "Peu",
         174
        ],
        [
         "Tes-M97",
         "Tes",
         175
        ],
        [
         "Mah-M175",
         "Mah",
         176
        ],
        [
         "Hyu-M156",
         "Hyu",
         177
        ],
        [
         "Lin-M28",
         "Lin",
         178
        ],
        [
         "Toy-M107",
         "Toy",
         179
        ],
        [
         "Sub-M92",
         "Sub",
         180
        ],
        [
         "Che-M48",
         "Che",
         181
        ],
        [
         "For-M26",
         "For",
         182
        ],
        [
         "Vol-M135",
         "Vol",
         183
        ],
        [
         "Tat-M187",
         "Tat",
         184
        ],
        [
         "Hon-M120",
         "Hon",
         185
        ],
        [
         "Hyu-M163",
         "Hyu",
         186
        ],
        [
         "Mah-M177",
         "Mah",
         187
        ],
        [
         "Tat-M192",
         "Tat",
         188
        ],
        [
         "Kia-M77",
         "Kia",
         189
        ],
        [
         "Toy-M196",
         "Toy",
         190
        ],
        [
         "GMC-M58",
         "GMC",
         191
        ],
        [
         "Mah-M167",
         "Mah",
         192
        ],
        [
         "BMW-M5",
         "BMW",
         193
        ],
        [
         "BMW-M249",
         "BMW",
         194
        ],
        [
         "Mah-M172",
         "Mah",
         195
        ],
        [
         "Sub-M94",
         "Sub",
         196
        ],
        [
         "Tat-M180",
         "Tat",
         197
        ],
        [
         "For-M25",
         "For",
         198
        ],
        [
         "Che-M42",
         "Che",
         199
        ],
        [
         "Mer-M123",
         "Mer",
         200
        ],
        [
         "Peu-M124",
         "Peu",
         201
        ],
        [
         "Dod-M9",
         "Dod",
         202
        ],
        [
         "Mar-M140",
         "Mar",
         203
        ],
        [
         "For-M119",
         "For",
         204
        ],
        [
         "Tes-M98",
         "Tes",
         205
        ],
        [
         "Toy-M205",
         "Toy",
         206
        ],
        [
         "Ren-M129",
         "Ren",
         207
        ],
        [
         "Aud-M237",
         "Aud",
         208
        ],
        [
         "Toy-M133",
         "Toy",
         209
        ],
        [
         "Nis-M82",
         "Nis",
         210
        ],
        [
         "Tat-M183",
         "Tat",
         211
        ],
        [
         "Che-M51",
         "Che",
         212
        ],
        [
         "Jee-M11",
         "Jee",
         213
        ],
        [
         "Ren-M128",
         "Ren",
         214
        ],
        [
         "Cad-M34",
         "Cad",
         215
        ],
        [
         "Che-M46",
         "Che",
         216
        ],
        [
         "Ren-M127",
         "Ren",
         217
        ],
        [
         "Agr-M113",
         "Agr",
         218
        ],
        [
         "Toy-M199",
         "Toy",
         219
        ],
        [
         "Mar-M145",
         "Mar",
         220
        ],
        [
         "Sko-M273",
         "Sko",
         221
        ],
        [
         "Nis-M270",
         "Nis",
         222
        ],
        [
         "Aud-M235",
         "Aud",
         223
        ],
        [
         "Cad-M35",
         "Cad",
         224
        ],
        [
         "Mer-M8",
         "Mer",
         225
        ],
        [
         "For-M23",
         "For",
         226
        ],
        [
         "Aud-M236",
         "Aud",
         227
        ],
        [
         "Lex-M99",
         "Lex",
         228
        ],
        [
         "Ren-M209",
         "Ren",
         229
        ],
        [
         "Kia-M78",
         "Kia",
         230
        ],
        [
         "Mah-M169",
         "Mah",
         231
        ],
        [
         "BMW-M3",
         "BMW",
         232
        ],
        [
         "For-M16",
         "For",
         233
        ],
        [
         "Nis-M80",
         "Nis",
         234
        ],
        [
         "Toy-M201",
         "Toy",
         235
        ],
        [
         "Che-M45",
         "Che",
         236
        ],
        [
         "Mit-M275",
         "Mit",
         237
        ],
        [
         "Toy-M197",
         "Toy",
         238
        ],
        [
         "Tat-M190",
         "Tat",
         239
        ],
        [
         "Hon-M65",
         "Hon",
         240
        ],
        [
         "Toy-M102",
         "Toy",
         241
        ],
        [
         "Hon-M67",
         "Hon",
         242
        ],
        [
         "Sko-M274",
         "Sko",
         243
        ],
        [
         "Mah-M168",
         "Mah",
         244
        ],
        [
         "Mer-M6",
         "Mer",
         245
        ],
        [
         "Ren-M207",
         "Ren",
         246
        ],
        [
         "Hon-M68",
         "Hon",
         247
        ],
        [
         "Hon-M69",
         "Hon",
         248
        ],
        [
         "Kia-M214",
         "Kia",
         249
        ],
        [
         "Mar-M144",
         "Mar",
         250
        ],
        [
         "Sko-M272",
         "Sko",
         251
        ],
        [
         "Mit-M276",
         "Mit",
         252
        ],
        [
         "Mar-M148",
         "Mar",
         253
        ],
        [
         "For-M24",
         "For",
         254
        ],
        [
         "Mah-M170",
         "Mah",
         255
        ],
        [
         "Acu-M62",
         "Acu",
         256
        ],
        [
         "Hyu-M162",
         "Hyu",
         257
        ],
        [
         "Hyu-M155",
         "Hyu",
         258
        ],
        [
         "Ren-M210",
         "Ren",
         259
        ],
        [
         "Aud-M229",
         "Aud",
         260
        ],
        [
         "Tat-M185",
         "Tat",
         261
        ],
        [
         "Vol-M109",
         "Vol",
         262
        ],
        [
         "Mar-M147",
         "Mar",
         263
        ],
        [
         "Hyu-M153",
         "Hyu",
         264
        ],
        [
         "For-M224",
         "For",
         265
        ],
        [
         "Nis-M89",
         "Nis",
         266
        ],
        [
         "Riv-M90",
         "Riv",
         267
        ],
        [
         "Mar-M139",
         "Mar",
         268
        ],
        [
         "Jee-M13",
         "Jee",
         269
        ],
        [
         "Tat-M189",
         "Tat",
         270
        ],
        [
         "Toy-M134",
         "Toy",
         271
        ],
        [
         "Mah-M174",
         "Mah",
         272
        ],
        [
         "Aud-M230",
         "Aud",
         273
        ],
        [
         "Toy-M195",
         "Toy",
         274
        ],
        [
         "Fia-M117",
         "Fia",
         275
        ],
        [
         "For-M222",
         "For",
         276
        ],
        [
         "Tat-M186",
         "Tat",
         277
        ],
        [
         "ZYXM13",
         "ZYXM13",
         null
        ]
       ],
       "datasetInfos": [],
       "dbfsResultPath": null,
       "isJsonSchema": true,
       "metadata": {},
       "overflow": false,
       "plotOptions": {
        "customPlotOptions": {},
        "displayType": "table",
        "pivotAggregation": null,
        "pivotColumns": null,
        "xColumns": null,
        "yColumns": null
       },
       "removedWidgets": [],
       "schema": [
        {
         "metadata": "{}",
         "name": "Model_ID",
         "type": "\"string\""
        },
        {
         "metadata": "{}",
         "name": "Model_Category",
         "type": "\"string\""
        },
        {
         "metadata": "{}",
         "name": "dim_model_id",
         "type": "\"long\""
        }
       ],
       "type": "table"
      }
     },
     "output_type": "display_data"
    }
   ],
   "source": [
    "joined_dim_table.display()"
   ]
  },
  {
   "cell_type": "markdown",
   "metadata": {
    "application/vnd.databricks.v1+cell": {
     "cellMetadata": {},
     "inputWidgets": {},
     "nuid": "e0cddd90-f1b1-404e-a90f-347d869eaadd",
     "showTitle": false,
     "tableResultSettingsMap": {},
     "title": ""
    }
   },
   "source": [
    "### Separate INSERTING data and UPDATING data and add SEROGATE KEY"
   ]
  },
  {
   "cell_type": "markdown",
   "metadata": {
    "application/vnd.databricks.v1+cell": {
     "cellMetadata": {},
     "inputWidgets": {},
     "nuid": "1f48c0ce-4b4d-46b6-8e25-386df51cb533",
     "showTitle": false,
     "tableResultSettingsMap": {},
     "title": ""
    }
   },
   "source": [
    "**Spliting old_records**"
   ]
  },
  {
   "cell_type": "code",
   "execution_count": 0,
   "metadata": {
    "application/vnd.databricks.v1+cell": {
     "cellMetadata": {
      "byteLimit": 2048000,
      "rowLimit": 10000
     },
     "inputWidgets": {},
     "nuid": "42bc047d-4375-460d-9de0-2f6825182c5c",
     "showTitle": false,
     "tableResultSettingsMap": {},
     "title": ""
    }
   },
   "outputs": [],
   "source": [
    "dim_old_records = joined_dim_table.filter(col('dim_model_id').isNotNull())"
   ]
  },
  {
   "cell_type": "markdown",
   "metadata": {
    "application/vnd.databricks.v1+cell": {
     "cellMetadata": {},
     "inputWidgets": {},
     "nuid": "d53f15ec-a3a6-4bc5-a42b-236a78e2d53b",
     "showTitle": false,
     "tableResultSettingsMap": {},
     "title": ""
    }
   },
   "source": [
    "**spliting new_records**"
   ]
  },
  {
   "cell_type": "code",
   "execution_count": 0,
   "metadata": {
    "application/vnd.databricks.v1+cell": {
     "cellMetadata": {
      "byteLimit": 2048000,
      "rowLimit": 10000
     },
     "inputWidgets": {},
     "nuid": "6deb7adf-f4e9-49e3-9433-2a82448cfe07",
     "showTitle": false,
     "tableResultSettingsMap": {},
     "title": ""
    }
   },
   "outputs": [],
   "source": [
    "dim_new_records = joined_dim_table.filter(col('dim_model_id').isNull())"
   ]
  },
  {
   "cell_type": "markdown",
   "metadata": {
    "application/vnd.databricks.v1+cell": {
     "cellMetadata": {},
     "inputWidgets": {},
     "nuid": "ee0846fd-aa4b-44c0-92c8-4f5d3010e21e",
     "showTitle": false,
     "tableResultSettingsMap": {},
     "title": ""
    }
   },
   "source": [
    "#### Creating SAROGATE KEY"
   ]
  },
  {
   "cell_type": "code",
   "execution_count": 0,
   "metadata": {
    "application/vnd.databricks.v1+cell": {
     "cellMetadata": {
      "byteLimit": 2048000,
      "rowLimit": 10000
     },
     "inputWidgets": {},
     "nuid": "b5d840b6-7870-45d3-a21f-18a8129a33fa",
     "showTitle": false,
     "tableResultSettingsMap": {},
     "title": ""
    }
   },
   "outputs": [
    {
     "output_type": "stream",
     "name": "stdout",
     "output_type": "stream",
     "text": [
      "length of old data: 277\nlength of new data: 1\n"
     ]
    }
   ],
   "source": [
    "print(f\"length of old data: {dim_old_records.count()}\")\n",
    "print(f\"length of new data: {dim_new_records.count()}\")"
   ]
  },
  {
   "cell_type": "code",
   "execution_count": 0,
   "metadata": {
    "application/vnd.databricks.v1+cell": {
     "cellMetadata": {
      "byteLimit": 2048000,
      "rowLimit": 10000
     },
     "inputWidgets": {},
     "nuid": "9f5a5b8e-82ec-460b-8216-24f3f2f29fa7",
     "showTitle": false,
     "tableResultSettingsMap": {},
     "title": ""
    }
   },
   "outputs": [],
   "source": [
    "if not spark.catalog.tableExists('carsales.gold.model_dim_table'):\n",
    "  max_value = 1\n",
    "else:\n",
    "  max_value_df = spark.sql(\"SELECT max(dim_model_id) FROM carsales.gold.model_dim_table\")\n",
    "  max_value = max_value_df.collect()[0][0]+1"
   ]
  },
  {
   "cell_type": "code",
   "execution_count": 0,
   "metadata": {
    "application/vnd.databricks.v1+cell": {
     "cellMetadata": {
      "byteLimit": 2048000,
      "rowLimit": 10000
     },
     "inputWidgets": {},
     "nuid": "2802f74a-972f-43e9-b955-f26b044092c4",
     "showTitle": false,
     "tableResultSettingsMap": {},
     "title": ""
    }
   },
   "outputs": [
    {
     "output_type": "stream",
     "name": "stdout",
     "output_type": "stream",
     "text": [
      "278\n"
     ]
    }
   ],
   "source": [
    "print(max_value)"
   ]
  },
  {
   "cell_type": "code",
   "execution_count": 0,
   "metadata": {
    "application/vnd.databricks.v1+cell": {
     "cellMetadata": {
      "byteLimit": 2048000,
      "rowLimit": 10000
     },
     "inputWidgets": {},
     "nuid": "d5db35b3-09a2-4962-b6f9-74fd4c0f21e7",
     "showTitle": false,
     "tableResultSettingsMap": {},
     "title": ""
    }
   },
   "outputs": [],
   "source": [
    "\n",
    "df_filtered_new = dim_new_records.withColumn('dim_model_id', lit(max_value+monotonically_increasing_id()))"
   ]
  },
  {
   "cell_type": "code",
   "execution_count": 0,
   "metadata": {
    "application/vnd.databricks.v1+cell": {
     "cellMetadata": {
      "byteLimit": 2048000,
      "rowLimit": 10000
     },
     "inputWidgets": {},
     "nuid": "76c4f1dd-bf84-48fd-b98b-db9b33c33fb3",
     "showTitle": false,
     "tableResultSettingsMap": {},
     "title": ""
    }
   },
   "outputs": [
    {
     "output_type": "display_data",
     "data": {
      "text/html": [
       "<style scoped>\n",
       "  .table-result-container {\n",
       "    max-height: 300px;\n",
       "    overflow: auto;\n",
       "  }\n",
       "  table, th, td {\n",
       "    border: 1px solid black;\n",
       "    border-collapse: collapse;\n",
       "  }\n",
       "  th, td {\n",
       "    padding: 5px;\n",
       "  }\n",
       "  th {\n",
       "    text-align: left;\n",
       "  }\n",
       "</style><div class='table-result-container'><table class='table-result'><thead style='background-color: white'><tr><th>Model_ID</th><th>Model_Category</th><th>dim_model_id</th></tr></thead><tbody><tr><td>ZYXM13</td><td>ZYXM13</td><td>278</td></tr></tbody></table></div>"
      ]
     },
     "metadata": {
      "application/vnd.databricks.v1+output": {
       "addedWidgets": {},
       "aggData": [],
       "aggError": "",
       "aggOverflow": false,
       "aggSchema": [],
       "aggSeriesLimitReached": false,
       "aggType": "",
       "arguments": {},
       "columnCustomDisplayInfos": {},
       "data": [
        [
         "ZYXM13",
         "ZYXM13",
         278
        ]
       ],
       "datasetInfos": [],
       "dbfsResultPath": null,
       "isJsonSchema": true,
       "metadata": {},
       "overflow": false,
       "plotOptions": {
        "customPlotOptions": {},
        "displayType": "table",
        "pivotAggregation": null,
        "pivotColumns": null,
        "xColumns": null,
        "yColumns": null
       },
       "removedWidgets": [],
       "schema": [
        {
         "metadata": "{}",
         "name": "Model_ID",
         "type": "\"string\""
        },
        {
         "metadata": "{}",
         "name": "Model_Category",
         "type": "\"string\""
        },
        {
         "metadata": "{}",
         "name": "dim_model_id",
         "type": "\"long\""
        }
       ],
       "type": "table"
      }
     },
     "output_type": "display_data"
    }
   ],
   "source": [
    "df_filtered_new.display()"
   ]
  },
  {
   "cell_type": "code",
   "execution_count": 0,
   "metadata": {
    "application/vnd.databricks.v1+cell": {
     "cellMetadata": {
      "byteLimit": 2048000,
      "rowLimit": 10000
     },
     "inputWidgets": {},
     "nuid": "0e6b7619-f8d4-4cb0-8dea-8e06560c7c1a",
     "showTitle": false,
     "tableResultSettingsMap": {},
     "title": ""
    }
   },
   "outputs": [],
   "source": [
    "df_final = df_filtered_new.union(dim_old_records)"
   ]
  },
  {
   "cell_type": "markdown",
   "metadata": {
    "application/vnd.databricks.v1+cell": {
     "cellMetadata": {},
     "inputWidgets": {},
     "nuid": "d32daf29-ba9f-4ba0-ac17-d4878e200a73",
     "showTitle": false,
     "tableResultSettingsMap": {},
     "title": ""
    }
   },
   "source": [
    "## SCD TYPE - I (UPSERT)"
   ]
  },
  {
   "cell_type": "code",
   "execution_count": 0,
   "metadata": {
    "application/vnd.databricks.v1+cell": {
     "cellMetadata": {
      "byteLimit": 2048000,
      "rowLimit": 10000
     },
     "inputWidgets": {},
     "nuid": "98034468-6b57-4c48-bc31-a9682aa8c411",
     "showTitle": false,
     "tableResultSettingsMap": {},
     "title": ""
    }
   },
   "outputs": [],
   "source": [
    "from delta.tables import DeltaTable"
   ]
  },
  {
   "cell_type": "code",
   "execution_count": 0,
   "metadata": {
    "application/vnd.databricks.v1+cell": {
     "cellMetadata": {
      "byteLimit": 2048000,
      "rowLimit": 10000
     },
     "inputWidgets": {},
     "nuid": "a4b1fb3a-2d3b-4095-a67f-7dff261267a7",
     "showTitle": false,
     "tableResultSettingsMap": {},
     "title": ""
    }
   },
   "outputs": [],
   "source": [
    "## if catalog is available in the local just do the upsert method if not push the data to gold layer container and catalog\n",
    "\n",
    "if spark.catalog.tableExists(\"carsales.gold.model_dim_table\"):\n",
    "  delta_tab = DeltaTable.forPath(spark, \"abfss://gold@firstendtoenddeproject.dfs.core.windows.net/model_dim_table\")\n",
    "\n",
    "  delta_tab.alias(\"trg\").merge(df_final.alias(\"src\"), \"trg.dim_model_id = src.dim_model_id\")\\\n",
    "    .whenMatchedUpdateAll()\\\n",
    "    .whenNotMatchedInsertAll()\\\n",
    "    .execute()\n",
    "\n",
    "else:\n",
    "  df_final.write\\\n",
    "    .format(\"delta\")\\\n",
    "    .mode(\"overwrite\")\\\n",
    "    .option(\"path\", \"abfss://gold@firstendtoenddeproject.dfs.core.windows.net/model_dim_table\")\\\n",
    "    .saveAsTable(\"carsales.gold.model_dim_table\")"
   ]
  },
  {
   "cell_type": "code",
   "execution_count": 0,
   "metadata": {
    "application/vnd.databricks.v1+cell": {
     "cellMetadata": {
      "byteLimit": 2048000,
      "implicitDf": true,
      "rowLimit": 10000
     },
     "inputWidgets": {},
     "nuid": "fe4e8ac4-06c7-4541-91c2-592a6eda29e9",
     "showTitle": false,
     "tableResultSettingsMap": {},
     "title": ""
    }
   },
   "outputs": [
    {
     "output_type": "display_data",
     "data": {
      "text/html": [
       "<style scoped>\n",
       "  .table-result-container {\n",
       "    max-height: 300px;\n",
       "    overflow: auto;\n",
       "  }\n",
       "  table, th, td {\n",
       "    border: 1px solid black;\n",
       "    border-collapse: collapse;\n",
       "  }\n",
       "  th, td {\n",
       "    padding: 5px;\n",
       "  }\n",
       "  th {\n",
       "    text-align: left;\n",
       "  }\n",
       "</style><div class='table-result-container'><table class='table-result'><thead style='background-color: white'><tr><th>Model_ID</th><th>Model_Category</th><th>dim_model_id</th></tr></thead><tbody><tr><td>Hon-M220</td><td>Hon</td><td>1</td></tr><tr><td>Hon-M215</td><td>Hon</td><td>2</td></tr><tr><td>Vol-M110</td><td>Vol</td><td>3</td></tr><tr><td>Vol-M260</td><td>Vol</td><td>4</td></tr><tr><td>BMW-M2</td><td>BMW</td><td>5</td></tr><tr><td>Acu-M60</td><td>Acu</td><td>6</td></tr><tr><td>Bui-M31</td><td>Bui</td><td>7</td></tr><tr><td>Hyu-M157</td><td>Hyu</td><td>8</td></tr><tr><td>Ren-M130</td><td>Ren</td><td>9</td></tr><tr><td>Tat-M179</td><td>Tat</td><td>10</td></tr><tr><td>Lin-M29</td><td>Lin</td><td>11</td></tr><tr><td>Aud-M227</td><td>Aud</td><td>12</td></tr><tr><td>Aud-M234</td><td>Aud</td><td>13</td></tr><tr><td>Mar-M142</td><td>Mar</td><td>14</td></tr><tr><td>Kia-M212</td><td>Kia</td><td>15</td></tr><tr><td>Toy-M198</td><td>Toy</td><td>16</td></tr><tr><td>For-M20</td><td>For</td><td>17</td></tr><tr><td>Mah-M178</td><td>Mah</td><td>18</td></tr><tr><td>Hyu-M161</td><td>Hyu</td><td>19</td></tr><tr><td>Nis-M86</td><td>Nis</td><td>20</td></tr><tr><td>Hon-M217</td><td>Hon</td><td>21</td></tr><tr><td>BMW-M1</td><td>BMW</td><td>22</td></tr><tr><td>Vol-M256</td><td>Vol</td><td>23</td></tr><tr><td>Nis-M264</td><td>Nis</td><td>24</td></tr><tr><td>Hyu-M158</td><td>Hyu</td><td>25</td></tr><tr><td>Vol-M136</td><td>Vol</td><td>26</td></tr><tr><td>Toy-M100</td><td>Toy</td><td>27</td></tr><tr><td>Hyu-M74</td><td>Hyu</td><td>28</td></tr><tr><td>Aud-M240</td><td>Aud</td><td>29</td></tr><tr><td>Nis-M85</td><td>Nis</td><td>30</td></tr><tr><td>Nis-M269</td><td>Nis</td><td>31</td></tr><tr><td>BMW-M250</td><td>BMW</td><td>32</td></tr><tr><td>Toy-M203</td><td>Toy</td><td>33</td></tr><tr><td>Kia-M213</td><td>Kia</td><td>34</td></tr><tr><td>Che-M114</td><td>Che</td><td>35</td></tr><tr><td>Nis-M83</td><td>Nis</td><td>36</td></tr><tr><td>Fia-M118</td><td>Fia</td><td>37</td></tr><tr><td>For-M18</td><td>For</td><td>38</td></tr><tr><td>Toy-M104</td><td>Toy</td><td>39</td></tr><tr><td>Mer-M122</td><td>Mer</td><td>40</td></tr><tr><td>Cit-M116</td><td>Cit</td><td>41</td></tr><tr><td>Nis-M261</td><td>Nis</td><td>42</td></tr><tr><td>Mah-M173</td><td>Mah</td><td>43</td></tr><tr><td>Mer-M121</td><td>Mer</td><td>44</td></tr><tr><td>BMW-M243</td><td>BMW</td><td>45</td></tr><tr><td>Nis-M87</td><td>Nis</td><td>46</td></tr><tr><td>Toy-M206</td><td>Toy</td><td>47</td></tr><tr><td>Hon-M64</td><td>Hon</td><td>48</td></tr><tr><td>Vol-M258</td><td>Vol</td><td>49</td></tr><tr><td>For-M19</td><td>For</td><td>50</td></tr><tr><td>Hon-M219</td><td>Hon</td><td>51</td></tr><tr><td>GMC-M55</td><td>GMC</td><td>52</td></tr><tr><td>Inf-M79</td><td>Inf</td><td>53</td></tr><tr><td>Jee-M253</td><td>Jee</td><td>54</td></tr><tr><td>Hon-M70</td><td>Hon</td><td>55</td></tr><tr><td>GMC-M54</td><td>GMC</td><td>56</td></tr><tr><td>Hon-M71</td><td>Hon</td><td>57</td></tr><tr><td>Jee-M12</td><td>Jee</td><td>58</td></tr><tr><td>Mar-M137</td><td>Mar</td><td>59</td></tr><tr><td>Nis-M81</td><td>Nis</td><td>60</td></tr><tr><td>Hyu-M75</td><td>Hyu</td><td>61</td></tr><tr><td>Aud-M232</td><td>Aud</td><td>62</td></tr><tr><td>Acu-M61</td><td>Acu</td><td>63</td></tr><tr><td>For-M226</td><td>For</td><td>64</td></tr><tr><td>Cit-M115</td><td>Cit</td><td>65</td></tr><tr><td>BMW-M244</td><td>BMW</td><td>66</td></tr><tr><td>Hon-M216</td><td>Hon</td><td>67</td></tr><tr><td>Toy-M106</td><td>Toy</td><td>68</td></tr><tr><td>Ren-M132</td><td>Ren</td><td>69</td></tr><tr><td>Tat-M191</td><td>Tat</td><td>70</td></tr><tr><td>For-M21</td><td>For</td><td>71</td></tr><tr><td>Acu-M63</td><td>Acu</td><td>72</td></tr><tr><td>Acu-M59</td><td>Acu</td><td>73</td></tr><tr><td>Ram-M15</td><td>Ram</td><td>74</td></tr><tr><td>Nis-M88</td><td>Nis</td><td>75</td></tr><tr><td>BMW-M242</td><td>BMW</td><td>76</td></tr><tr><td>GMC-M52</td><td>GMC</td><td>77</td></tr><tr><td>Mar-M146</td><td>Mar</td><td>78</td></tr><tr><td>Aud-M239</td><td>Aud</td><td>79</td></tr><tr><td>Jee-M10</td><td>Jee</td><td>80</td></tr><tr><td>Aud-M233</td><td>Aud</td><td>81</td></tr><tr><td>Sko-M271</td><td>Sko</td><td>82</td></tr><tr><td>BMW-M245</td><td>BMW</td><td>83</td></tr><tr><td>Aud-M241</td><td>Aud</td><td>84</td></tr><tr><td>Vol-M259</td><td>Vol</td><td>85</td></tr><tr><td>Ram-M14</td><td>Ram</td><td>86</td></tr><tr><td>Nis-M262</td><td>Nis</td><td>87</td></tr><tr><td>Tat-M194</td><td>Tat</td><td>88</td></tr><tr><td>Aud-M238</td><td>Aud</td><td>89</td></tr><tr><td>MG-M251</td><td>MG</td><td>90</td></tr><tr><td>Jee-M254</td><td>Jee</td><td>91</td></tr><tr><td>Riv-M91</td><td>Riv</td><td>92</td></tr><tr><td>Che-M49</td><td>Che</td><td>93</td></tr><tr><td>Toy-M105</td><td>Toy</td><td>94</td></tr><tr><td>Hyu-M159</td><td>Hyu</td><td>95</td></tr><tr><td>Vol-M255</td><td>Vol</td><td>96</td></tr><tr><td>Tat-M188</td><td>Tat</td><td>97</td></tr><tr><td>BMW-M4</td><td>BMW</td><td>98</td></tr><tr><td>Toy-M200</td><td>Toy</td><td>99</td></tr><tr><td>Toy-M103</td><td>Toy</td><td>100</td></tr><tr><td>BMW-M247</td><td>BMW</td><td>101</td></tr><tr><td>Mah-M176</td><td>Mah</td><td>102</td></tr><tr><td>For-M221</td><td>For</td><td>103</td></tr><tr><td>Nis-M266</td><td>Nis</td><td>104</td></tr><tr><td>For-M17</td><td>For</td><td>105</td></tr><tr><td>Hyu-M154</td><td>Hyu</td><td>106</td></tr><tr><td>Mer-M7</td><td>Mer</td><td>107</td></tr><tr><td>Tes-M96</td><td>Tes</td><td>108</td></tr><tr><td>Lin-M30</td><td>Lin</td><td>109</td></tr><tr><td>Hon-M218</td><td>Hon</td><td>110</td></tr><tr><td>Vol-M108</td><td>Vol</td><td>111</td></tr><tr><td>Mah-M165</td><td>Mah</td><td>112</td></tr><tr><td>Hon-M66</td><td>Hon</td><td>113</td></tr><tr><td>Toy-M202</td><td>Toy</td><td>114</td></tr><tr><td>Cad-M36</td><td>Cad</td><td>115</td></tr><tr><td>Sub-M95</td><td>Sub</td><td>116</td></tr><tr><td>Tat-M181</td><td>Tat</td><td>117</td></tr><tr><td>Cad-M32</td><td>Cad</td><td>118</td></tr><tr><td>Hyu-M73</td><td>Hyu</td><td>119</td></tr><tr><td>Nis-M267</td><td>Nis</td><td>120</td></tr><tr><td>GMC-M53</td><td>GMC</td><td>121</td></tr><tr><td>Che-M40</td><td>Che</td><td>122</td></tr><tr><td>Che-M50</td><td>Che</td><td>123</td></tr><tr><td>Mar-M152</td><td>Mar</td><td>124</td></tr><tr><td>Cad-M38</td><td>Cad</td><td>125</td></tr><tr><td>Che-M41</td><td>Che</td><td>126</td></tr><tr><td>Vol-M257</td><td>Vol</td><td>127</td></tr><tr><td>For-M225</td><td>For</td><td>128</td></tr><tr><td>For-M223</td><td>For</td><td>129</td></tr><tr><td>Ren-M131</td><td>Ren</td><td>130</td></tr><tr><td>Che-M43</td><td>Che</td><td>131</td></tr><tr><td>Mah-M166</td><td>Mah</td><td>132</td></tr><tr><td>Mar-M151</td><td>Mar</td><td>133</td></tr><tr><td>Sub-M93</td><td>Sub</td><td>134</td></tr><tr><td>GMC-M57</td><td>GMC</td><td>135</td></tr><tr><td>Agr-M112</td><td>Agr</td><td>136</td></tr><tr><td>Mar-M138</td><td>Mar</td><td>137</td></tr><tr><td>Mar-M149</td><td>Mar</td><td>138</td></tr><tr><td>Che-M47</td><td>Che</td><td>139</td></tr><tr><td>Toy-M204</td><td>Toy</td><td>140</td></tr><tr><td>Cad-M39</td><td>Cad</td><td>141</td></tr><tr><td>Cad-M33</td><td>Cad</td><td>142</td></tr><tr><td>Hyu-M160</td><td>Hyu</td><td>143</td></tr><tr><td>Mah-M171</td><td>Mah</td><td>144</td></tr><tr><td>Tat-M184</td><td>Tat</td><td>145</td></tr><tr><td>Agr-M111</td><td>Agr</td><td>146</td></tr><tr><td>Lin-M27</td><td>Lin</td><td>147</td></tr><tr><td>Ren-M211</td><td>Ren</td><td>148</td></tr><tr><td>Nis-M265</td><td>Nis</td><td>149</td></tr><tr><td>Tat-M193</td><td>Tat</td><td>150</td></tr><tr><td>Che-M44</td><td>Che</td><td>151</td></tr><tr><td>Ren-M208</td><td>Ren</td><td>152</td></tr><tr><td>Aud-M231</td><td>Aud</td><td>153</td></tr><tr><td>MG-M252</td><td>MG</td><td>154</td></tr><tr><td>Tat-M182</td><td>Tat</td><td>155</td></tr><tr><td>GMC-M56</td><td>GMC</td><td>156</td></tr><tr><td>Mar-M141</td><td>Mar</td><td>157</td></tr><tr><td>Hyu-M164</td><td>Hyu</td><td>158</td></tr><tr><td>Peu-M125</td><td>Peu</td><td>159</td></tr><tr><td>Nis-M263</td><td>Nis</td><td>160</td></tr><tr><td>Hyu-M72</td><td>Hyu</td><td>161</td></tr><tr><td>Mit-M277</td><td>Mit</td><td>162</td></tr><tr><td>Toy-M101</td><td>Toy</td><td>163</td></tr><tr><td>For-M22</td><td>For</td><td>164</td></tr><tr><td>BMW-M248</td><td>BMW</td><td>165</td></tr><tr><td>Nis-M84</td><td>Nis</td><td>166</td></tr><tr><td>Mar-M150</td><td>Mar</td><td>167</td></tr><tr><td>Mar-M143</td><td>Mar</td><td>168</td></tr><tr><td>BMW-M246</td><td>BMW</td><td>169</td></tr><tr><td>Cad-M37</td><td>Cad</td><td>170</td></tr><tr><td>Nis-M268</td><td>Nis</td><td>171</td></tr><tr><td>Kia-M76</td><td>Kia</td><td>172</td></tr><tr><td>Aud-M228</td><td>Aud</td><td>173</td></tr><tr><td>Peu-M126</td><td>Peu</td><td>174</td></tr><tr><td>Tes-M97</td><td>Tes</td><td>175</td></tr><tr><td>Mah-M175</td><td>Mah</td><td>176</td></tr><tr><td>Hyu-M156</td><td>Hyu</td><td>177</td></tr><tr><td>Lin-M28</td><td>Lin</td><td>178</td></tr><tr><td>Toy-M107</td><td>Toy</td><td>179</td></tr><tr><td>Sub-M92</td><td>Sub</td><td>180</td></tr><tr><td>Che-M48</td><td>Che</td><td>181</td></tr><tr><td>For-M26</td><td>For</td><td>182</td></tr><tr><td>Vol-M135</td><td>Vol</td><td>183</td></tr><tr><td>Tat-M187</td><td>Tat</td><td>184</td></tr><tr><td>Hon-M120</td><td>Hon</td><td>185</td></tr><tr><td>Hyu-M163</td><td>Hyu</td><td>186</td></tr><tr><td>Mah-M177</td><td>Mah</td><td>187</td></tr><tr><td>Tat-M192</td><td>Tat</td><td>188</td></tr><tr><td>Kia-M77</td><td>Kia</td><td>189</td></tr><tr><td>Toy-M196</td><td>Toy</td><td>190</td></tr><tr><td>GMC-M58</td><td>GMC</td><td>191</td></tr><tr><td>Mah-M167</td><td>Mah</td><td>192</td></tr><tr><td>BMW-M5</td><td>BMW</td><td>193</td></tr><tr><td>BMW-M249</td><td>BMW</td><td>194</td></tr><tr><td>Mah-M172</td><td>Mah</td><td>195</td></tr><tr><td>Sub-M94</td><td>Sub</td><td>196</td></tr><tr><td>Tat-M180</td><td>Tat</td><td>197</td></tr><tr><td>For-M25</td><td>For</td><td>198</td></tr><tr><td>Che-M42</td><td>Che</td><td>199</td></tr><tr><td>Mer-M123</td><td>Mer</td><td>200</td></tr><tr><td>Peu-M124</td><td>Peu</td><td>201</td></tr><tr><td>Dod-M9</td><td>Dod</td><td>202</td></tr><tr><td>Mar-M140</td><td>Mar</td><td>203</td></tr><tr><td>For-M119</td><td>For</td><td>204</td></tr><tr><td>Tes-M98</td><td>Tes</td><td>205</td></tr><tr><td>Toy-M205</td><td>Toy</td><td>206</td></tr><tr><td>Ren-M129</td><td>Ren</td><td>207</td></tr><tr><td>Aud-M237</td><td>Aud</td><td>208</td></tr><tr><td>Toy-M133</td><td>Toy</td><td>209</td></tr><tr><td>Nis-M82</td><td>Nis</td><td>210</td></tr><tr><td>Tat-M183</td><td>Tat</td><td>211</td></tr><tr><td>Che-M51</td><td>Che</td><td>212</td></tr><tr><td>Jee-M11</td><td>Jee</td><td>213</td></tr><tr><td>Ren-M128</td><td>Ren</td><td>214</td></tr><tr><td>Cad-M34</td><td>Cad</td><td>215</td></tr><tr><td>Che-M46</td><td>Che</td><td>216</td></tr><tr><td>Ren-M127</td><td>Ren</td><td>217</td></tr><tr><td>Agr-M113</td><td>Agr</td><td>218</td></tr><tr><td>Toy-M199</td><td>Toy</td><td>219</td></tr><tr><td>Mar-M145</td><td>Mar</td><td>220</td></tr><tr><td>Sko-M273</td><td>Sko</td><td>221</td></tr><tr><td>Nis-M270</td><td>Nis</td><td>222</td></tr><tr><td>Aud-M235</td><td>Aud</td><td>223</td></tr><tr><td>Cad-M35</td><td>Cad</td><td>224</td></tr><tr><td>Mer-M8</td><td>Mer</td><td>225</td></tr><tr><td>For-M23</td><td>For</td><td>226</td></tr><tr><td>Aud-M236</td><td>Aud</td><td>227</td></tr><tr><td>Lex-M99</td><td>Lex</td><td>228</td></tr><tr><td>Ren-M209</td><td>Ren</td><td>229</td></tr><tr><td>Kia-M78</td><td>Kia</td><td>230</td></tr><tr><td>Mah-M169</td><td>Mah</td><td>231</td></tr><tr><td>BMW-M3</td><td>BMW</td><td>232</td></tr><tr><td>For-M16</td><td>For</td><td>233</td></tr><tr><td>Nis-M80</td><td>Nis</td><td>234</td></tr><tr><td>Toy-M201</td><td>Toy</td><td>235</td></tr><tr><td>Che-M45</td><td>Che</td><td>236</td></tr><tr><td>Mit-M275</td><td>Mit</td><td>237</td></tr><tr><td>Toy-M197</td><td>Toy</td><td>238</td></tr><tr><td>Tat-M190</td><td>Tat</td><td>239</td></tr><tr><td>Hon-M65</td><td>Hon</td><td>240</td></tr><tr><td>Toy-M102</td><td>Toy</td><td>241</td></tr><tr><td>Hon-M67</td><td>Hon</td><td>242</td></tr><tr><td>Sko-M274</td><td>Sko</td><td>243</td></tr><tr><td>Mah-M168</td><td>Mah</td><td>244</td></tr><tr><td>Mer-M6</td><td>Mer</td><td>245</td></tr><tr><td>Ren-M207</td><td>Ren</td><td>246</td></tr><tr><td>Hon-M68</td><td>Hon</td><td>247</td></tr><tr><td>Hon-M69</td><td>Hon</td><td>248</td></tr><tr><td>Kia-M214</td><td>Kia</td><td>249</td></tr><tr><td>Mar-M144</td><td>Mar</td><td>250</td></tr><tr><td>Sko-M272</td><td>Sko</td><td>251</td></tr><tr><td>Mit-M276</td><td>Mit</td><td>252</td></tr><tr><td>Mar-M148</td><td>Mar</td><td>253</td></tr><tr><td>For-M24</td><td>For</td><td>254</td></tr><tr><td>Mah-M170</td><td>Mah</td><td>255</td></tr><tr><td>Acu-M62</td><td>Acu</td><td>256</td></tr><tr><td>Hyu-M162</td><td>Hyu</td><td>257</td></tr><tr><td>Hyu-M155</td><td>Hyu</td><td>258</td></tr><tr><td>Ren-M210</td><td>Ren</td><td>259</td></tr><tr><td>Aud-M229</td><td>Aud</td><td>260</td></tr><tr><td>Tat-M185</td><td>Tat</td><td>261</td></tr><tr><td>Vol-M109</td><td>Vol</td><td>262</td></tr><tr><td>Mar-M147</td><td>Mar</td><td>263</td></tr><tr><td>Hyu-M153</td><td>Hyu</td><td>264</td></tr><tr><td>For-M224</td><td>For</td><td>265</td></tr><tr><td>Nis-M89</td><td>Nis</td><td>266</td></tr><tr><td>Riv-M90</td><td>Riv</td><td>267</td></tr><tr><td>Mar-M139</td><td>Mar</td><td>268</td></tr><tr><td>Jee-M13</td><td>Jee</td><td>269</td></tr><tr><td>Tat-M189</td><td>Tat</td><td>270</td></tr><tr><td>Toy-M134</td><td>Toy</td><td>271</td></tr><tr><td>Mah-M174</td><td>Mah</td><td>272</td></tr><tr><td>Aud-M230</td><td>Aud</td><td>273</td></tr><tr><td>Toy-M195</td><td>Toy</td><td>274</td></tr><tr><td>Fia-M117</td><td>Fia</td><td>275</td></tr><tr><td>For-M222</td><td>For</td><td>276</td></tr><tr><td>Tat-M186</td><td>Tat</td><td>277</td></tr><tr><td>ZYXM13</td><td>ZYXM13</td><td>278</td></tr></tbody></table></div>"
      ]
     },
     "metadata": {
      "application/vnd.databricks.v1+output": {
       "addedWidgets": {},
       "aggData": [],
       "aggError": "",
       "aggOverflow": false,
       "aggSchema": [],
       "aggSeriesLimitReached": false,
       "aggType": "",
       "arguments": {},
       "columnCustomDisplayInfos": {},
       "data": [
        [
         "Hon-M220",
         "Hon",
         1
        ],
        [
         "Hon-M215",
         "Hon",
         2
        ],
        [
         "Vol-M110",
         "Vol",
         3
        ],
        [
         "Vol-M260",
         "Vol",
         4
        ],
        [
         "BMW-M2",
         "BMW",
         5
        ],
        [
         "Acu-M60",
         "Acu",
         6
        ],
        [
         "Bui-M31",
         "Bui",
         7
        ],
        [
         "Hyu-M157",
         "Hyu",
         8
        ],
        [
         "Ren-M130",
         "Ren",
         9
        ],
        [
         "Tat-M179",
         "Tat",
         10
        ],
        [
         "Lin-M29",
         "Lin",
         11
        ],
        [
         "Aud-M227",
         "Aud",
         12
        ],
        [
         "Aud-M234",
         "Aud",
         13
        ],
        [
         "Mar-M142",
         "Mar",
         14
        ],
        [
         "Kia-M212",
         "Kia",
         15
        ],
        [
         "Toy-M198",
         "Toy",
         16
        ],
        [
         "For-M20",
         "For",
         17
        ],
        [
         "Mah-M178",
         "Mah",
         18
        ],
        [
         "Hyu-M161",
         "Hyu",
         19
        ],
        [
         "Nis-M86",
         "Nis",
         20
        ],
        [
         "Hon-M217",
         "Hon",
         21
        ],
        [
         "BMW-M1",
         "BMW",
         22
        ],
        [
         "Vol-M256",
         "Vol",
         23
        ],
        [
         "Nis-M264",
         "Nis",
         24
        ],
        [
         "Hyu-M158",
         "Hyu",
         25
        ],
        [
         "Vol-M136",
         "Vol",
         26
        ],
        [
         "Toy-M100",
         "Toy",
         27
        ],
        [
         "Hyu-M74",
         "Hyu",
         28
        ],
        [
         "Aud-M240",
         "Aud",
         29
        ],
        [
         "Nis-M85",
         "Nis",
         30
        ],
        [
         "Nis-M269",
         "Nis",
         31
        ],
        [
         "BMW-M250",
         "BMW",
         32
        ],
        [
         "Toy-M203",
         "Toy",
         33
        ],
        [
         "Kia-M213",
         "Kia",
         34
        ],
        [
         "Che-M114",
         "Che",
         35
        ],
        [
         "Nis-M83",
         "Nis",
         36
        ],
        [
         "Fia-M118",
         "Fia",
         37
        ],
        [
         "For-M18",
         "For",
         38
        ],
        [
         "Toy-M104",
         "Toy",
         39
        ],
        [
         "Mer-M122",
         "Mer",
         40
        ],
        [
         "Cit-M116",
         "Cit",
         41
        ],
        [
         "Nis-M261",
         "Nis",
         42
        ],
        [
         "Mah-M173",
         "Mah",
         43
        ],
        [
         "Mer-M121",
         "Mer",
         44
        ],
        [
         "BMW-M243",
         "BMW",
         45
        ],
        [
         "Nis-M87",
         "Nis",
         46
        ],
        [
         "Toy-M206",
         "Toy",
         47
        ],
        [
         "Hon-M64",
         "Hon",
         48
        ],
        [
         "Vol-M258",
         "Vol",
         49
        ],
        [
         "For-M19",
         "For",
         50
        ],
        [
         "Hon-M219",
         "Hon",
         51
        ],
        [
         "GMC-M55",
         "GMC",
         52
        ],
        [
         "Inf-M79",
         "Inf",
         53
        ],
        [
         "Jee-M253",
         "Jee",
         54
        ],
        [
         "Hon-M70",
         "Hon",
         55
        ],
        [
         "GMC-M54",
         "GMC",
         56
        ],
        [
         "Hon-M71",
         "Hon",
         57
        ],
        [
         "Jee-M12",
         "Jee",
         58
        ],
        [
         "Mar-M137",
         "Mar",
         59
        ],
        [
         "Nis-M81",
         "Nis",
         60
        ],
        [
         "Hyu-M75",
         "Hyu",
         61
        ],
        [
         "Aud-M232",
         "Aud",
         62
        ],
        [
         "Acu-M61",
         "Acu",
         63
        ],
        [
         "For-M226",
         "For",
         64
        ],
        [
         "Cit-M115",
         "Cit",
         65
        ],
        [
         "BMW-M244",
         "BMW",
         66
        ],
        [
         "Hon-M216",
         "Hon",
         67
        ],
        [
         "Toy-M106",
         "Toy",
         68
        ],
        [
         "Ren-M132",
         "Ren",
         69
        ],
        [
         "Tat-M191",
         "Tat",
         70
        ],
        [
         "For-M21",
         "For",
         71
        ],
        [
         "Acu-M63",
         "Acu",
         72
        ],
        [
         "Acu-M59",
         "Acu",
         73
        ],
        [
         "Ram-M15",
         "Ram",
         74
        ],
        [
         "Nis-M88",
         "Nis",
         75
        ],
        [
         "BMW-M242",
         "BMW",
         76
        ],
        [
         "GMC-M52",
         "GMC",
         77
        ],
        [
         "Mar-M146",
         "Mar",
         78
        ],
        [
         "Aud-M239",
         "Aud",
         79
        ],
        [
         "Jee-M10",
         "Jee",
         80
        ],
        [
         "Aud-M233",
         "Aud",
         81
        ],
        [
         "Sko-M271",
         "Sko",
         82
        ],
        [
         "BMW-M245",
         "BMW",
         83
        ],
        [
         "Aud-M241",
         "Aud",
         84
        ],
        [
         "Vol-M259",
         "Vol",
         85
        ],
        [
         "Ram-M14",
         "Ram",
         86
        ],
        [
         "Nis-M262",
         "Nis",
         87
        ],
        [
         "Tat-M194",
         "Tat",
         88
        ],
        [
         "Aud-M238",
         "Aud",
         89
        ],
        [
         "MG-M251",
         "MG",
         90
        ],
        [
         "Jee-M254",
         "Jee",
         91
        ],
        [
         "Riv-M91",
         "Riv",
         92
        ],
        [
         "Che-M49",
         "Che",
         93
        ],
        [
         "Toy-M105",
         "Toy",
         94
        ],
        [
         "Hyu-M159",
         "Hyu",
         95
        ],
        [
         "Vol-M255",
         "Vol",
         96
        ],
        [
         "Tat-M188",
         "Tat",
         97
        ],
        [
         "BMW-M4",
         "BMW",
         98
        ],
        [
         "Toy-M200",
         "Toy",
         99
        ],
        [
         "Toy-M103",
         "Toy",
         100
        ],
        [
         "BMW-M247",
         "BMW",
         101
        ],
        [
         "Mah-M176",
         "Mah",
         102
        ],
        [
         "For-M221",
         "For",
         103
        ],
        [
         "Nis-M266",
         "Nis",
         104
        ],
        [
         "For-M17",
         "For",
         105
        ],
        [
         "Hyu-M154",
         "Hyu",
         106
        ],
        [
         "Mer-M7",
         "Mer",
         107
        ],
        [
         "Tes-M96",
         "Tes",
         108
        ],
        [
         "Lin-M30",
         "Lin",
         109
        ],
        [
         "Hon-M218",
         "Hon",
         110
        ],
        [
         "Vol-M108",
         "Vol",
         111
        ],
        [
         "Mah-M165",
         "Mah",
         112
        ],
        [
         "Hon-M66",
         "Hon",
         113
        ],
        [
         "Toy-M202",
         "Toy",
         114
        ],
        [
         "Cad-M36",
         "Cad",
         115
        ],
        [
         "Sub-M95",
         "Sub",
         116
        ],
        [
         "Tat-M181",
         "Tat",
         117
        ],
        [
         "Cad-M32",
         "Cad",
         118
        ],
        [
         "Hyu-M73",
         "Hyu",
         119
        ],
        [
         "Nis-M267",
         "Nis",
         120
        ],
        [
         "GMC-M53",
         "GMC",
         121
        ],
        [
         "Che-M40",
         "Che",
         122
        ],
        [
         "Che-M50",
         "Che",
         123
        ],
        [
         "Mar-M152",
         "Mar",
         124
        ],
        [
         "Cad-M38",
         "Cad",
         125
        ],
        [
         "Che-M41",
         "Che",
         126
        ],
        [
         "Vol-M257",
         "Vol",
         127
        ],
        [
         "For-M225",
         "For",
         128
        ],
        [
         "For-M223",
         "For",
         129
        ],
        [
         "Ren-M131",
         "Ren",
         130
        ],
        [
         "Che-M43",
         "Che",
         131
        ],
        [
         "Mah-M166",
         "Mah",
         132
        ],
        [
         "Mar-M151",
         "Mar",
         133
        ],
        [
         "Sub-M93",
         "Sub",
         134
        ],
        [
         "GMC-M57",
         "GMC",
         135
        ],
        [
         "Agr-M112",
         "Agr",
         136
        ],
        [
         "Mar-M138",
         "Mar",
         137
        ],
        [
         "Mar-M149",
         "Mar",
         138
        ],
        [
         "Che-M47",
         "Che",
         139
        ],
        [
         "Toy-M204",
         "Toy",
         140
        ],
        [
         "Cad-M39",
         "Cad",
         141
        ],
        [
         "Cad-M33",
         "Cad",
         142
        ],
        [
         "Hyu-M160",
         "Hyu",
         143
        ],
        [
         "Mah-M171",
         "Mah",
         144
        ],
        [
         "Tat-M184",
         "Tat",
         145
        ],
        [
         "Agr-M111",
         "Agr",
         146
        ],
        [
         "Lin-M27",
         "Lin",
         147
        ],
        [
         "Ren-M211",
         "Ren",
         148
        ],
        [
         "Nis-M265",
         "Nis",
         149
        ],
        [
         "Tat-M193",
         "Tat",
         150
        ],
        [
         "Che-M44",
         "Che",
         151
        ],
        [
         "Ren-M208",
         "Ren",
         152
        ],
        [
         "Aud-M231",
         "Aud",
         153
        ],
        [
         "MG-M252",
         "MG",
         154
        ],
        [
         "Tat-M182",
         "Tat",
         155
        ],
        [
         "GMC-M56",
         "GMC",
         156
        ],
        [
         "Mar-M141",
         "Mar",
         157
        ],
        [
         "Hyu-M164",
         "Hyu",
         158
        ],
        [
         "Peu-M125",
         "Peu",
         159
        ],
        [
         "Nis-M263",
         "Nis",
         160
        ],
        [
         "Hyu-M72",
         "Hyu",
         161
        ],
        [
         "Mit-M277",
         "Mit",
         162
        ],
        [
         "Toy-M101",
         "Toy",
         163
        ],
        [
         "For-M22",
         "For",
         164
        ],
        [
         "BMW-M248",
         "BMW",
         165
        ],
        [
         "Nis-M84",
         "Nis",
         166
        ],
        [
         "Mar-M150",
         "Mar",
         167
        ],
        [
         "Mar-M143",
         "Mar",
         168
        ],
        [
         "BMW-M246",
         "BMW",
         169
        ],
        [
         "Cad-M37",
         "Cad",
         170
        ],
        [
         "Nis-M268",
         "Nis",
         171
        ],
        [
         "Kia-M76",
         "Kia",
         172
        ],
        [
         "Aud-M228",
         "Aud",
         173
        ],
        [
         "Peu-M126",
         "Peu",
         174
        ],
        [
         "Tes-M97",
         "Tes",
         175
        ],
        [
         "Mah-M175",
         "Mah",
         176
        ],
        [
         "Hyu-M156",
         "Hyu",
         177
        ],
        [
         "Lin-M28",
         "Lin",
         178
        ],
        [
         "Toy-M107",
         "Toy",
         179
        ],
        [
         "Sub-M92",
         "Sub",
         180
        ],
        [
         "Che-M48",
         "Che",
         181
        ],
        [
         "For-M26",
         "For",
         182
        ],
        [
         "Vol-M135",
         "Vol",
         183
        ],
        [
         "Tat-M187",
         "Tat",
         184
        ],
        [
         "Hon-M120",
         "Hon",
         185
        ],
        [
         "Hyu-M163",
         "Hyu",
         186
        ],
        [
         "Mah-M177",
         "Mah",
         187
        ],
        [
         "Tat-M192",
         "Tat",
         188
        ],
        [
         "Kia-M77",
         "Kia",
         189
        ],
        [
         "Toy-M196",
         "Toy",
         190
        ],
        [
         "GMC-M58",
         "GMC",
         191
        ],
        [
         "Mah-M167",
         "Mah",
         192
        ],
        [
         "BMW-M5",
         "BMW",
         193
        ],
        [
         "BMW-M249",
         "BMW",
         194
        ],
        [
         "Mah-M172",
         "Mah",
         195
        ],
        [
         "Sub-M94",
         "Sub",
         196
        ],
        [
         "Tat-M180",
         "Tat",
         197
        ],
        [
         "For-M25",
         "For",
         198
        ],
        [
         "Che-M42",
         "Che",
         199
        ],
        [
         "Mer-M123",
         "Mer",
         200
        ],
        [
         "Peu-M124",
         "Peu",
         201
        ],
        [
         "Dod-M9",
         "Dod",
         202
        ],
        [
         "Mar-M140",
         "Mar",
         203
        ],
        [
         "For-M119",
         "For",
         204
        ],
        [
         "Tes-M98",
         "Tes",
         205
        ],
        [
         "Toy-M205",
         "Toy",
         206
        ],
        [
         "Ren-M129",
         "Ren",
         207
        ],
        [
         "Aud-M237",
         "Aud",
         208
        ],
        [
         "Toy-M133",
         "Toy",
         209
        ],
        [
         "Nis-M82",
         "Nis",
         210
        ],
        [
         "Tat-M183",
         "Tat",
         211
        ],
        [
         "Che-M51",
         "Che",
         212
        ],
        [
         "Jee-M11",
         "Jee",
         213
        ],
        [
         "Ren-M128",
         "Ren",
         214
        ],
        [
         "Cad-M34",
         "Cad",
         215
        ],
        [
         "Che-M46",
         "Che",
         216
        ],
        [
         "Ren-M127",
         "Ren",
         217
        ],
        [
         "Agr-M113",
         "Agr",
         218
        ],
        [
         "Toy-M199",
         "Toy",
         219
        ],
        [
         "Mar-M145",
         "Mar",
         220
        ],
        [
         "Sko-M273",
         "Sko",
         221
        ],
        [
         "Nis-M270",
         "Nis",
         222
        ],
        [
         "Aud-M235",
         "Aud",
         223
        ],
        [
         "Cad-M35",
         "Cad",
         224
        ],
        [
         "Mer-M8",
         "Mer",
         225
        ],
        [
         "For-M23",
         "For",
         226
        ],
        [
         "Aud-M236",
         "Aud",
         227
        ],
        [
         "Lex-M99",
         "Lex",
         228
        ],
        [
         "Ren-M209",
         "Ren",
         229
        ],
        [
         "Kia-M78",
         "Kia",
         230
        ],
        [
         "Mah-M169",
         "Mah",
         231
        ],
        [
         "BMW-M3",
         "BMW",
         232
        ],
        [
         "For-M16",
         "For",
         233
        ],
        [
         "Nis-M80",
         "Nis",
         234
        ],
        [
         "Toy-M201",
         "Toy",
         235
        ],
        [
         "Che-M45",
         "Che",
         236
        ],
        [
         "Mit-M275",
         "Mit",
         237
        ],
        [
         "Toy-M197",
         "Toy",
         238
        ],
        [
         "Tat-M190",
         "Tat",
         239
        ],
        [
         "Hon-M65",
         "Hon",
         240
        ],
        [
         "Toy-M102",
         "Toy",
         241
        ],
        [
         "Hon-M67",
         "Hon",
         242
        ],
        [
         "Sko-M274",
         "Sko",
         243
        ],
        [
         "Mah-M168",
         "Mah",
         244
        ],
        [
         "Mer-M6",
         "Mer",
         245
        ],
        [
         "Ren-M207",
         "Ren",
         246
        ],
        [
         "Hon-M68",
         "Hon",
         247
        ],
        [
         "Hon-M69",
         "Hon",
         248
        ],
        [
         "Kia-M214",
         "Kia",
         249
        ],
        [
         "Mar-M144",
         "Mar",
         250
        ],
        [
         "Sko-M272",
         "Sko",
         251
        ],
        [
         "Mit-M276",
         "Mit",
         252
        ],
        [
         "Mar-M148",
         "Mar",
         253
        ],
        [
         "For-M24",
         "For",
         254
        ],
        [
         "Mah-M170",
         "Mah",
         255
        ],
        [
         "Acu-M62",
         "Acu",
         256
        ],
        [
         "Hyu-M162",
         "Hyu",
         257
        ],
        [
         "Hyu-M155",
         "Hyu",
         258
        ],
        [
         "Ren-M210",
         "Ren",
         259
        ],
        [
         "Aud-M229",
         "Aud",
         260
        ],
        [
         "Tat-M185",
         "Tat",
         261
        ],
        [
         "Vol-M109",
         "Vol",
         262
        ],
        [
         "Mar-M147",
         "Mar",
         263
        ],
        [
         "Hyu-M153",
         "Hyu",
         264
        ],
        [
         "For-M224",
         "For",
         265
        ],
        [
         "Nis-M89",
         "Nis",
         266
        ],
        [
         "Riv-M90",
         "Riv",
         267
        ],
        [
         "Mar-M139",
         "Mar",
         268
        ],
        [
         "Jee-M13",
         "Jee",
         269
        ],
        [
         "Tat-M189",
         "Tat",
         270
        ],
        [
         "Toy-M134",
         "Toy",
         271
        ],
        [
         "Mah-M174",
         "Mah",
         272
        ],
        [
         "Aud-M230",
         "Aud",
         273
        ],
        [
         "Toy-M195",
         "Toy",
         274
        ],
        [
         "Fia-M117",
         "Fia",
         275
        ],
        [
         "For-M222",
         "For",
         276
        ],
        [
         "Tat-M186",
         "Tat",
         277
        ],
        [
         "ZYXM13",
         "ZYXM13",
         278
        ]
       ],
       "datasetInfos": [
        {
         "name": "_sqldf",
         "schema": {
          "fields": [
           {
            "metadata": {},
            "name": "Model_ID",
            "nullable": true,
            "type": "string"
           },
           {
            "metadata": {},
            "name": "Model_Category",
            "nullable": true,
            "type": "string"
           },
           {
            "metadata": {},
            "name": "dim_model_id",
            "nullable": true,
            "type": "long"
           }
          ],
          "type": "struct"
         },
         "tableIdentifier": null,
         "typeStr": "pyspark.sql.connect.dataframe.DataFrame"
        }
       ],
       "dbfsResultPath": null,
       "isJsonSchema": true,
       "metadata": {
        "createTempViewForImplicitDf": true,
        "dataframeName": "_sqldf",
        "executionCount": 31
       },
       "overflow": false,
       "plotOptions": {
        "customPlotOptions": {},
        "displayType": "table",
        "pivotAggregation": null,
        "pivotColumns": null,
        "xColumns": null,
        "yColumns": null
       },
       "removedWidgets": [],
       "schema": [
        {
         "metadata": "{}",
         "name": "Model_ID",
         "type": "\"string\""
        },
        {
         "metadata": "{}",
         "name": "Model_Category",
         "type": "\"string\""
        },
        {
         "metadata": "{}",
         "name": "dim_model_id",
         "type": "\"long\""
        }
       ],
       "type": "table"
      }
     },
     "output_type": "display_data"
    }
   ],
   "source": [
    "%sql\n",
    "\n",
    "SELECT * FROM carsales.gold.model_dim_table;"
   ]
  },
  {
   "cell_type": "code",
   "execution_count": 0,
   "metadata": {
    "application/vnd.databricks.v1+cell": {
     "cellMetadata": {},
     "inputWidgets": {},
     "nuid": "743f5b8f-51df-4f8b-be15-6f456cb3d989",
     "showTitle": false,
     "tableResultSettingsMap": {},
     "title": ""
    }
   },
   "outputs": [],
   "source": []
  }
 ],
 "metadata": {
  "application/vnd.databricks.v1+notebook": {
   "computePreferences": null,
   "dashboards": [],
   "environmentMetadata": {
    "base_environment": "",
    "environment_version": "2"
   },
   "inputWidgetPreferences": null,
   "language": "python",
   "notebookMetadata": {
    "mostRecentlyExecutedCommandWithImplicitDF": {
     "commandId": 6601432460890759,
     "dataframes": [
      "_sqldf"
     ]
    },
    "pythonIndentUnit": 4
   },
   "notebookName": "Gold_model_dim_table",
   "widgets": {
    "load_flg": {
     "currentValue": "0",
     "nuid": "97281079-cc17-458a-95a8-5f6f10a0bd39",
     "typedWidgetInfo": {
      "autoCreated": false,
      "defaultValue": "0",
      "label": null,
      "name": "load_flg",
      "options": {
       "widgetDisplayType": "Text",
       "validationRegex": null
      },
      "parameterDataType": "String"
     },
     "widgetInfo": {
      "widgetType": "text",
      "defaultValue": "0",
      "label": null,
      "name": "load_flg",
      "options": {
       "widgetType": "text",
       "autoCreated": null,
       "validationRegex": null
      }
     }
    }
   }
  },
  "language_info": {
   "name": "python"
  }
 },
 "nbformat": 4,
 "nbformat_minor": 0
}